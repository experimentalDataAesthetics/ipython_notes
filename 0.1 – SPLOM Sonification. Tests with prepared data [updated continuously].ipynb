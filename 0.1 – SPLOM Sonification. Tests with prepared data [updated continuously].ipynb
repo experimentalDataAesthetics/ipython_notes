{
 "metadata": {
  "name": ""
 },
 "nbformat": 3,
 "nbformat_minor": 0,
 "worksheets": [
  {
   "cells": [
    {
     "cell_type": "heading",
     "level": 1,
     "metadata": {},
     "source": [
      "SPLOM Sonification. Tests with prepared data [updated continuously]"
     ]
    },
    {
     "cell_type": "markdown",
     "metadata": {},
     "source": [
      "Shintaro Miyazaki <br>University of Applied Sciences and Arts Northwestern Switzerland<br> Academy of Art and Design<br> <a href=\"http://www.ixdm.ch/\" target=\"_blank\">Institute of Experimental Design and Media Cultures</a><br>Basel"
     ]
    },
    {
     "cell_type": "heading",
     "level": 3,
     "metadata": {},
     "source": [
      "Intro"
     ]
    },
    {
     "cell_type": "markdown",
     "metadata": {},
     "source": [
      "This <a href=\"http://ipython.org/notebook.html\" target=\"_blank\">notebook</a> is about the sonification of data values with short audible frequencies processed with granular synthesis done in an early phase of \"Experimental Data Aesthetics. Multi-sensory Exploration of High-dimensional Data Sets as an Issue of Design Research\" a project funded by the Swiss National Science Foundation. \n",
      "\n",
      "The input data is visualized with the scatter plot matrix (SPLOM) technique. In order to get a better understanding of the sound design possibilities and evaluate their auditory functionality prepared data sets are used. IPython code lines are executable in case the environment is <a href=\"http://ipython.org/install.html\" target=\"_blank\">installed.</a> For the synthesis of audio <a href=\"https://supercollider.github.io/\" target=\"_blank\"> Supercollider (SC3)</a> is running in parallel to the IPython-server (See <a href=\"http://doc.sccode.org/Tutorials/Getting-Started/00-Getting-Started-With-SC.html\" traget=\"_blank\">this</a> for tutorials). Following code lines will create a synthdef, which is receiving <a href=\"http://opensoundcontrol.org/introduction-osc\" target=\"_blank\">Open Sound Control (OSC)</a> messages from IPython.  "
     ]
    },
    {
     "cell_type": "markdown",
     "metadata": {},
     "source": [
      "<code>(\n",
      "SynthDef(\"grain\", { |out, amp=0.1, freq=440, sustain=0.01, pan|\n",
      "\tvar snd = FSinOsc.ar(freq);\n",
      "\tvar amp2 = amp * AmpComp.ir(freq.max(50)) * 0.5;\n",
      "\tvar env = EnvGen.ar(Env.sine(sustain, amp2), doneAction: 2);\n",
      "\tOffsetOut.ar(out, Pan2.ar(snd * env, pan));\n",
      "}, \\ir ! 5).add;\n",
      ")\n",
      "</code>"
     ]
    },
    {
     "cell_type": "markdown",
     "metadata": {},
     "source": [
      "In order to send OSC messages <a href=\"https://trac.v2.nl/wiki/pyOSC\" target=\"_blank\">pyOSC</a> is required. Using the terminal or other command line tools and doing \"sudo ipython setup.py install\" inside the pyOSC folder will install the package. Following lines will load all required packages (below the versions numbers)."
     ]
    },
    {
     "cell_type": "code",
     "collapsed": false,
     "input": [
      "import numpy as np\n",
      "from numpy import random\n",
      "import pandas as pd\n",
      "from StringIO import StringIO\n",
      "from IPython.display import Image\n",
      "from IPython import display\n",
      "import OSC\n",
      "import time, sys\n",
      "import time, random\n",
      "client = OSC.OSCClient()\n",
      "client.connect( ( '127.0.0.1', 57110 ) )"
     ],
     "language": "python",
     "metadata": {},
     "outputs": [],
     "prompt_number": 150
    },
    {
     "cell_type": "markdown",
     "metadata": {},
     "source": [
      "The synthdefs in the Supercollider-server on localhost is receving OSC messages via port 57110 in the following way:\n",
      "\n",
      "<code>\"s_new\", \\nameofsynthdef, -1, 0, 1, \\argument_1, argumenvalue_1 (as int or float), \\argument_2, argumenvalue_2, ... \\argument_n, argumenvalue_n</code>\n",
      "\n",
      "The values (-1, 0, 1) between \\nameofsynthdef and \\argument_1 are explained <a href=\"http://doc.sccode.org/Reference/Server-Command-Reference.html#Synth%20Commands\" target=\"_blank\">here</a> in detail. The procedure to send was named \"oscgrain\" and defined as a function."
     ]
    },
    {
     "cell_type": "code",
     "collapsed": false,
     "input": [
      "def oscgrain( frequency, vol, sustain ):\n",
      "    msg = OSC.OSCMessage()\n",
      "    msg.setAddress(\"s_new\")\n",
      "    msg.append(\"grain\")\n",
      "    msg.append(-1)\n",
      "    msg.append(0)\n",
      "    msg.append(1)\n",
      "    msg.append(\"amp\")\n",
      "    msg.append(vol)\n",
      "    msg.append(\"freq\")\n",
      "    msg.append(frequency)     #read in data points\n",
      "    msg.append(\"sustain\")\n",
      "    msg.append(sustain)\n",
      "    client.send(msg)"
     ],
     "language": "python",
     "metadata": {},
     "outputs": [],
     "prompt_number": 5
    },
    {
     "cell_type": "markdown",
     "metadata": {},
     "source": [
      "Sending is now easier. Running following line"
     ]
    },
    {
     "cell_type": "code",
     "collapsed": false,
     "input": [
      "oscgrain(5000, 0.8, 0.1)"
     ],
     "language": "python",
     "metadata": {},
     "outputs": [],
     "prompt_number": 10
    },
    {
     "cell_type": "markdown",
     "metadata": {},
     "source": [
      "will create this short sonic grain: "
     ]
    },
    {
     "cell_type": "markdown",
     "metadata": {},
     "source": [
      "<iframe width=\"100%\" height=\"166\" scrolling=\"no\" frameborder=\"no\" src=\"https://w.soundcloud.com/player/?url=https%3A//api.soundcloud.com/tracks/148147735&amp;color=ff5500&amp;auto_play=false&amp;hide_related=false&amp;show_artwork=true\"></iframe>"
     ]
    },
    {
     "cell_type": "heading",
     "level": 3,
     "metadata": {},
     "source": [
      "1. Reading data from csv-files"
     ]
    },
    {
     "cell_type": "markdown",
     "metadata": {},
     "source": [
      "Loading data is done by running the lines below. The second line is scaling all values of an attribute/dimension between 0.0 and 1.0. Data is processed with <a href=\"http://www.numpy.org/\" traget=\"_blank\">numpy.</a> As an example the famous <a href=\"http://en.wikipedia.org/wiki/Iris_flower_data_set\" target=\"_blank\">iris-flower-data set</a> is loaded.  "
     ]
    },
    {
     "cell_type": "code",
     "collapsed": false,
     "input": [
      "data = np.genfromtxt(\"iris.data\", dtype=float, delimiter=',', skip_header=1) \n",
      "data_all = (data - np.min(data, axis=0))/(np.max(data, axis=0) - np.min(data, axis=0))"
     ],
     "language": "python",
     "metadata": {},
     "outputs": [],
     "prompt_number": 28
    },
    {
     "cell_type": "markdown",
     "metadata": {},
     "source": [
      "Its SPLOM and parallel coordinate visualization is feature in nature methods:"
     ]
    },
    {
     "cell_type": "code",
     "collapsed": false,
     "input": [
      "from IPython.display import HTML\n",
      "HTML('<iframe src=http://www.nature.com/nmeth/journal/v9/n10/images/nmeth.2186-F1.jpg width=900 height=800></iframe>')"
     ],
     "language": "python",
     "metadata": {},
     "outputs": [
      {
       "html": [
        "<iframe src=http://www.nature.com/nmeth/journal/v9/n10/images/nmeth.2186-F1.jpg width=900 height=800></iframe>"
       ],
       "metadata": {},
       "output_type": "pyout",
       "prompt_number": 29,
       "text": [
        "<IPython.core.display.HTML at 0x102475050>"
       ]
      }
     ],
     "prompt_number": 29
    },
    {
     "cell_type": "heading",
     "level": 3,
     "metadata": {},
     "source": [
      "2. Examples of iris-flower-data set sonification"
     ]
    },
    {
     "cell_type": "markdown",
     "metadata": {},
     "source": [
      "Random selection of one data point with 4 attributes/dimensions mapped to frequencies between 100 and 1400 Hz with a sustain of 1 sec. The amplitude/volume is a reciprocal of the number of attributes/dimensions, which is specified by <code>np.asarray(data.shape)[1]</code>. With <code>data.shape</code> the shape of the numpy array named data is determined. It consists of 178 rows and 5 columns, the last column for the classes (flower names)."
     ]
    },
    {
     "cell_type": "code",
     "collapsed": false,
     "input": [
      "for i in range(np.asarray(data.shape)[1]-1):\n",
      "    oscgrain(100+(1400*data_all[random.randint(0,(np.asarray(data.shape)[0])-1),i]), 1.0/np.asarray(data.shape)[1], 1.00)"
     ],
     "language": "python",
     "metadata": {},
     "outputs": [],
     "prompt_number": 56
    },
    {
     "cell_type": "markdown",
     "metadata": {},
     "source": [
      "Some examples played sequentially:"
     ]
    },
    {
     "cell_type": "markdown",
     "metadata": {},
     "source": [
      "<iframe width=\"100%\" height=\"166\" scrolling=\"no\" frameborder=\"no\" src=\"https://w.soundcloud.com/player/?url=https%3A//api.soundcloud.com/tracks/148150049&amp;color=ff5500&amp;auto_play=false&amp;hide_related=false&amp;show_artwork=true\"></iframe>"
     ]
    },
    {
     "cell_type": "markdown",
     "metadata": {},
     "source": [
      "Other data sets. Notice the small adjustments required to read in the data properly."
     ]
    },
    {
     "cell_type": "code",
     "collapsed": false,
     "input": [
      "data = np.genfromtxt(\"ppg2008.csv\", dtype=float, delimiter=',', skip_header=1) \n",
      "data_all = (data - np.min(data, axis=0))/(np.max(data, axis=0) - np.min(data, axis=0))\n",
      "for i in range(np.asarray(data.shape)[1]-1):\n",
      "    oscgrain(100+(1400*data_all[random.randint(0,(np.asarray(data.shape)[0])-1),i+1]), 1.0/np.asarray(data.shape)[1], 1.00)"
     ],
     "language": "python",
     "metadata": {},
     "outputs": [],
     "prompt_number": 97
    },
    {
     "cell_type": "code",
     "collapsed": false,
     "input": [
      "data = np.genfromtxt(\"wine_names.csv\", dtype=float, delimiter=',', skip_header=1) \n",
      "data_all = (data - np.min(data, axis=0))/(np.max(data, axis=0) - np.min(data, axis=0))\n",
      "for i in range(np.asarray(data.shape)[1]-1):\n",
      "    oscgrain(100+(1400*data_all[random.randint(0,(np.asarray(data.shape)[0])-1),i+1]), 1.0/np.asarray(data.shape)[1], 1.00)"
     ],
     "language": "python",
     "metadata": {},
     "outputs": [],
     "prompt_number": 98
    },
    {
     "cell_type": "markdown",
     "metadata": {},
     "source": [
      "Running the code below will create a sequence of shorter grains of 30ms, which are all together sonifications of the whole iris-flower-data set. It is a direct sonification of the data sets as it is stored in rows and columns in the provided file and is similar to a heatmap display, althought the information display in heatmaps is more efficient. \n",
      "\n",
      "First load the iris-flower-data set again:"
     ]
    },
    {
     "cell_type": "code",
     "collapsed": false,
     "input": [
      "data = np.genfromtxt(\"iris.data\", dtype=float, delimiter=',', skip_header=1) \n",
      "data_all = (data - np.min(data, axis=0))/(np.max(data, axis=0) - np.min(data, axis=0))\n",
      "for i in range(np.asarray(data.shape)[0]):\n",
      "    for ii in range (np.asarray(data.shape)[1]-1): #last dimension is not a float = class information\n",
      "        oscgrain(2000+(1500*data_all[i,ii]),1.0/np.asarray(data.shape)[1],0.03)\n",
      "        time.sleep(0.1) # this adds a short break of 100ms between the data attributes\n",
      "    time.sleep(0.2) # this adds a break of 200ms between the data points"
     ],
     "language": "python",
     "metadata": {},
     "outputs": [],
     "prompt_number": 144
    },
    {
     "cell_type": "markdown",
     "metadata": {},
     "source": [
      "It takes about 1 min 30 seconds and sounds like this."
     ]
    },
    {
     "cell_type": "markdown",
     "metadata": {},
     "source": [
      "<iframe width=\"100%\" height=\"166\" scrolling=\"no\" frameborder=\"no\" src=\"https://w.soundcloud.com/player/?url=https%3A//api.soundcloud.com/tracks/148175531&amp;color=ff5500&amp;auto_play=false&amp;hide_related=false&amp;show_artwork=true\"></iframe>"
     ]
    },
    {
     "cell_type": "markdown",
     "metadata": {},
     "source": [
      "Heatmap of the same data set"
     ]
    },
    {
     "cell_type": "code",
     "collapsed": false,
     "input": [
      "def heatmapper ( filename, width, height ):\n",
      "\n",
      "    # Plot it out\n",
      "    fig, ax = plt.subplots()\n",
      "    heatmap = ax.pcolor(data_all, cmap=plt.cm.Reds, alpha=0.8)\n",
      "\n",
      "    # Format\n",
      "    fig = plt.gcf()\n",
      "    fig.set_size_inches(width, height)\n",
      "\n",
      "    # turn off the frame\n",
      "    ax.set_frame_on(False)\n",
      "\n",
      "    # put the major ticks at the middle of each cell\n",
      "    ax.set_yticks(np.arange(data_all.shape[0]) + 0.5, minor=False)\n",
      "    ax.set_xticks(np.arange(data_all.shape[1]) + 0.5, minor=False)\n",
      "\n",
      "    # want a more natural, table-like display\n",
      "    ax.invert_yaxis()\n",
      "    ax.xaxis.tick_top()\n",
      "\n",
      "    #Labels\n",
      "    ax.set_xticklabels(data_all.columns, minor=False)\n",
      "    ax.set_yticklabels(data_all.index, minor=False)\n",
      "\n",
      "    # rotate the\n",
      "    plt.xticks(rotation=90)\n",
      "\n",
      "    ax.grid(False)\n",
      "\n",
      "    # Turn off all the ticks\n",
      "    ax = plt.gca()\n",
      "    fig.savefig(filename)"
     ],
     "language": "python",
     "metadata": {},
     "outputs": [],
     "prompt_number": 177
    },
    {
     "cell_type": "code",
     "collapsed": false,
     "input": [
      "data = pd.read_csv(\"iris.csv\", index_col=4)\n",
      "data_all = (data - np.min(data, axis=0))/(np.max(data, axis=0) - np.min(data, axis=0))\n",
      "heatmapper ('heatmap_iris_current.pdf', 8, 20)"
     ],
     "language": "python",
     "metadata": {},
     "outputs": [
      {
       "metadata": {},
       "output_type": "display_data",
       "png": "[encoded data removed]",
       "text": [
        "<matplotlib.figure.Figure at 0x10f2446d0>"
       ]
      }
     ],
     "prompt_number": 178
    },
    {
     "cell_type": "markdown",
     "metadata": {},
     "source": [
      "Faster sonification"
     ]
    },
    {
     "cell_type": "code",
     "collapsed": false,
     "input": [
      "data = np.genfromtxt(\"iris.data\", dtype=float, delimiter=',', skip_header=1) \n",
      "data_all = (data - np.min(data, axis=0))/(np.max(data, axis=0) - np.min(data, axis=0))\n",
      "for i in range(np.asarray(data.shape)[0]):\n",
      "    for ii in range (np.asarray(data.shape)[1]-1): #last dimension is not a float = class information\n",
      "        oscgrain(2000+(1500*data_all[i,ii]),1.0/np.asarray(data.shape)[1],0.03)\n",
      "        time.sleep(0.01) # this adds a short break of 10ms between the data attributes\n",
      "    time.sleep(0.06) # this adds a break of 60ms between the data points"
     ],
     "language": "python",
     "metadata": {},
     "outputs": [],
     "prompt_number": 166
    },
    {
     "cell_type": "markdown",
     "metadata": {},
     "source": [
      "<iframe width=\"100%\" height=\"166\" scrolling=\"no\" frameborder=\"no\" src=\"https://w.soundcloud.com/player/?url=https%3A//api.soundcloud.com/tracks/148177539&amp;color=ff5500&amp;auto_play=false&amp;hide_related=false&amp;show_artwork=true\"></iframe>"
     ]
    },
    {
     "cell_type": "markdown",
     "metadata": {},
     "source": [
      "Heatmap and spectrogramms are comparable. Although in the spectrogramm the attribues/values/frequencies of a data point are not stacked, but lined. See <a href=\"https://github.com/experimentalDataAesthetics/ipython_notes/raw/master/heatmapvsspectrogram.pdf\">this pdf.</a>"
     ]
    },
    {
     "cell_type": "heading",
     "level": 3,
     "metadata": {},
     "source": [
      "3. Creating prepared data sets"
     ]
    },
    {
     "cell_type": "markdown",
     "metadata": {},
     "source": [
      "After exploring a bit the simple sonification possibilities of high-dimensional data sets\n",
      "\n",
      "\n",
      "\n",
      "\n",
      "http://stackoverflow.com/questions/10031580/how-to-write-simple-geometric-shapes-into-numpy-arrays"
     ]
    },
    {
     "cell_type": "heading",
     "level": 2,
     "metadata": {},
     "source": [
      "References/ Literature:"
     ]
    },
    {
     "cell_type": "markdown",
     "metadata": {},
     "source": [
      "Citation in html with zotero?\n",
      "https://www.zotero.org/support/creating_bibliographies"
     ]
    },
    {
     "cell_type": "heading",
     "level": 2,
     "metadata": {},
     "source": [
      "Versioning"
     ]
    },
    {
     "cell_type": "code",
     "collapsed": false,
     "input": [
      "%load_ext version_information\n",
      "%version_information numpy, scipy, matplotlib, sympy, pyosc, pandas, conda"
     ],
     "language": "python",
     "metadata": {},
     "outputs": [
      {
       "output_type": "stream",
       "stream": "stdout",
       "text": [
        "The version_information extension is already loaded. To reload it, use:\n",
        "  %reload_ext version_information\n"
       ]
      },
      {
       "html": [
        "<table><tr><th>Software</th><th>Version</th></tr><tr><td>Python</td><td>2.7.6 |Anaconda 1.9.2 (x86_64)| (default, Jan 10 2014, 11:23:15) [GCC 4.0.1 (Apple Inc. build 5493)]</td></tr><tr><td>IPython</td><td>1.1.0</td></tr><tr><td>OS</td><td>posix [darwin]</td></tr><tr><td>numpy</td><td>1.8.1</td></tr><tr><td>scipy</td><td>0.13.3</td></tr><tr><td>matplotlib</td><td>1.3.1</td></tr><tr><td>sympy</td><td>0.7.4.1</td></tr><tr><td>pyosc</td><td>0.3.5b-5294</td></tr><tr><td>pandas</td><td>0.13.1</td></tr><tr><td>conda</td><td>3.4.1</td></tr><tr><td colspan='2'>Tue May 06 15:37:57 2014 CEST</td></tr></table>"
       ],
       "json": [
        "{\"Software versions\": [{\"version\": \"2.7.6 |Anaconda 1.9.2 (x86_64)| (default, Jan 10 2014, 11:23:15) [GCC 4.0.1 (Apple Inc. build 5493)]\", \"module\": \"Python\"}, {\"version\": \"1.1.0\", \"module\": \"IPython\"}, {\"version\": \"posix [darwin]\", \"module\": \"OS\"}, {\"version\": \"1.8.1\", \"module\": \"numpy\"}, {\"version\": \"0.13.3\", \"module\": \"scipy\"}, {\"version\": \"1.3.1\", \"module\": \"matplotlib\"}, {\"version\": \"0.7.4.1\", \"module\": \"sympy\"}, {\"version\": \"0.3.5b-5294\", \"module\": \"pyosc\"}, {\"version\": \"0.13.1\", \"module\": \"pandas\"}, {\"version\": \"3.4.1\", \"module\": \"conda\"}]}"
       ],
       "latex": [
        "\\begin{tabular}{|l|l|}\\hline\n",
        "{\\bf Software} & {\\bf Version} \\\\ \\hline\\hline\n",
        "Python & 2.7.6 |Anaconda 1.9.2 (x86\\letterunderscore{}64)| (default, Jan 10 2014, 11:23:15) [GCC 4.0.1 (Apple Inc. build 5493)] \\\\ \\hline\n",
        "IPython & 1.1.0 \\\\ \\hline\n",
        "OS & posix [darwin] \\\\ \\hline\n",
        "numpy & 1.8.1 \\\\ \\hline\n",
        "scipy & 0.13.3 \\\\ \\hline\n",
        "matplotlib & 1.3.1 \\\\ \\hline\n",
        "sympy & 0.7.4.1 \\\\ \\hline\n",
        "pyosc & 0.3.5b-5294 \\\\ \\hline\n",
        "pandas & 0.13.1 \\\\ \\hline\n",
        "conda & 3.4.1 \\\\ \\hline\n",
        "\\hline \\multicolumn{2}{|l|}{Tue May 06 15:37:57 2014 CEST} \\\\ \\hline\n",
        "\\end{tabular}\n"
       ],
       "metadata": {},
       "output_type": "pyout",
       "prompt_number": 169,
       "text": [
        "Software versions\n",
        "Python 2.7.6 |Anaconda 1.9.2 (x86_64)| (default, Jan 10 2014, 11:23:15) [GCC 4.0.1 (Apple Inc. build 5493)]\n",
        "IPython 1.1.0\n",
        "OS posix [darwin]\n",
        "numpy 1.8.1\n",
        "scipy 0.13.3\n",
        "matplotlib 1.3.1\n",
        "sympy 0.7.4.1\n",
        "pyosc 0.3.5b-5294\n",
        "pandas 0.13.1\n",
        "conda 3.4.1\n",
        "<tr><td colspan='2'>Tue May 06 15:37:57 2014 CEST</td></tr>"
       ]
      }
     ],
     "prompt_number": 169
    }
   ],
   "metadata": {}
  }
 ]
}