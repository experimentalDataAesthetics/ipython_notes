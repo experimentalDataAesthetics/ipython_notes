{
 "metadata": {
  "name": ""
 },
 "nbformat": 3,
 "nbformat_minor": 0,
 "worksheets": [
  {
   "cells": [
    {
     "cell_type": "raw",
     "metadata": {},
     "source": [
      "Here is the complete set of keyboard shortcuts available:\n",
      "Shortcut \tAction\n",
      "Shift-Enter \trun cell\n",
      "Ctrl-Enter \trun cell in-place\n",
      "Alt-Enter \trun cell, insert below\n",
      "Ctrl-m x \tcut cell\n",
      "Ctrl-m c \tcopy cell\n",
      "Ctrl-m v \tpaste cell\n",
      "Ctrl-m d \tdelete cell\n",
      "Ctrl-m z \tundo last cell deletion\n",
      "Ctrl-m - \tsplit cell\n",
      "Ctrl-m a \tinsert cell above\n",
      "Ctrl-m b \tinsert cell below\n",
      "Ctrl-m o \ttoggle output\n",
      "Ctrl-m O \ttoggle output scroll\n",
      "Ctrl-m l \ttoggle line numbers\n",
      "Ctrl-m s \tsave notebook\n",
      "Ctrl-m j \tmove cell down\n",
      "Ctrl-m k \tmove cell up\n",
      "Ctrl-m y \tcode cell\n",
      "Ctrl-m m \tmarkdown cell\n",
      "Ctrl-m t \traw cell\n",
      "Ctrl-m 1-6 \theading 1-6 cell\n",
      "Ctrl-m p \tselect previous\n",
      "Ctrl-m n \tselect next\n",
      "Ctrl-m i \tinterrupt kernel\n",
      "Ctrl-m . \trestart kernel\n",
      "Ctrl-m h \tshow keyboard shortcuts"
     ]
    }
   ],
   "metadata": {}
  }
 ]
}