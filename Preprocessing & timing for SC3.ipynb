{
 "metadata": {
  "name": ""
 },
 "nbformat": 3,
 "nbformat_minor": 0,
 "worksheets": [
  {
   "cells": [
    {
     "cell_type": "heading",
     "level": 1,
     "metadata": {},
     "source": [
      "NumPy Basics: Working with multidimensional arrays"
     ]
    },
    {
     "cell_type": "heading",
     "level": 3,
     "metadata": {},
     "source": [
      "Basic tutorials:"
     ]
    },
    {
     "cell_type": "markdown",
     "metadata": {},
     "source": [
      "http://wiki.scipy.org/Tentative_NumPy_Tutorial\n",
      "\n",
      "http://www.python-kurs.eu/numpy.php"
     ]
    },
    {
     "cell_type": "code",
     "collapsed": false,
     "input": [
      "import numpy as np\n",
      "from StringIO import StringIO"
     ],
     "language": "python",
     "metadata": {},
     "outputs": [],
     "prompt_number": 2
    },
    {
     "cell_type": "heading",
     "level": 3,
     "metadata": {},
     "source": [
      "Loading data into numpy"
     ]
    },
    {
     "cell_type": "markdown",
     "metadata": {},
     "source": [
      "http://stackoverflow.com/questions/12336234/read-csv-file-to-numpy-array-first-row-as-strings-rest-as-float"
     ]
    },
    {
     "cell_type": "code",
     "collapsed": false,
     "input": [
      "data = np.genfromtxt(\"wine_names.csv\", dtype=None, delimiter=',', skip_header=1) "
     ],
     "language": "python",
     "metadata": {},
     "outputs": [],
     "prompt_number": 3
    },
    {
     "cell_type": "code",
     "collapsed": false,
     "input": [
      "data = np.genfromtxt(\"wine_names.csv\", dtype=float, delimiter=',', skip_header=1) "
     ],
     "language": "python",
     "metadata": {},
     "outputs": [],
     "prompt_number": 4
    },
    {
     "cell_type": "markdown",
     "metadata": {},
     "source": [
      "Data is from:\n",
      "\n",
      "https://archive.ics.uci.edu/ml/datasets/Wine"
     ]
    },
    {
     "cell_type": "heading",
     "level": 4,
     "metadata": {},
     "source": [
      "Numpy Basics"
     ]
    },
    {
     "cell_type": "markdown",
     "metadata": {},
     "source": [
      "ndarray.ndim > the number of axes (dimensions) of the array. In the Python world, the number of dimensions is referred to as rank. (Commentary: This is not = dimensions (columns)??\n",
      "\n",
      "ndarray.shape > the dimensions of the array. This is a tuple of integers indicating the size of the array in each dimension. For a matrix with n rows (Reihen) and m columns (Spalten), shape will be (n,m). The length of the shape tuple is therefore the rank, or number of dimensions, ndim. \n",
      "\n",
      "ndarray.size > the total number of elements of the array. This is equal to the product of the elements of shape. \n",
      "\n",
      "ndarray.dtype > an object describing the type of the elements in the array. One can create or specify dtype's using standard Python types. Additionally NumPy provides types of its own. numpy.int32, numpy.int16, and numpy.float64 are some examples. "
     ]
    },
    {
     "cell_type": "markdown",
     "metadata": {},
     "source": [
      "http://docs.scipy.org/doc/numpy/reference/generated/numpy.ndarray.html#numpy.ndarray"
     ]
    },
    {
     "cell_type": "code",
     "collapsed": false,
     "input": [
      "data.shape"
     ],
     "language": "python",
     "metadata": {},
     "outputs": [
      {
       "metadata": {},
       "output_type": "pyout",
       "prompt_number": 5,
       "text": [
        "(178, 14)"
       ]
      }
     ],
     "prompt_number": 5
    },
    {
     "cell_type": "markdown",
     "metadata": {},
     "source": [
      "177 rows and 14 columns, 177 datapoints with 14 dimensions"
     ]
    },
    {
     "cell_type": "code",
     "collapsed": false,
     "input": [
      "data.ndim"
     ],
     "language": "python",
     "metadata": {},
     "outputs": [
      {
       "metadata": {},
       "output_type": "pyout",
       "prompt_number": 6,
       "text": [
        "2"
       ]
      }
     ],
     "prompt_number": 6
    },
    {
     "cell_type": "heading",
     "level": 4,
     "metadata": {},
     "source": [
      "Print options"
     ]
    },
    {
     "cell_type": "code",
     "collapsed": false,
     "input": [
      "np.set_printoptions(threshold='nan')"
     ],
     "language": "python",
     "metadata": {},
     "outputs": [],
     "prompt_number": 128
    },
    {
     "cell_type": "markdown",
     "metadata": {},
     "source": [
      "Print everything \u2191"
     ]
    },
    {
     "cell_type": "code",
     "collapsed": false,
     "input": [
      "np.set_printoptions(edgeitems=3,infstr='inf',\n",
      "linewidth=75, nanstr='nan', precision=8,\n",
      "suppress=False, threshold=1000, formatter=None)"
     ],
     "language": "python",
     "metadata": {},
     "outputs": [],
     "prompt_number": 162
    },
    {
     "cell_type": "markdown",
     "metadata": {},
     "source": [
      "Default settings \u2191"
     ]
    },
    {
     "cell_type": "heading",
     "level": 4,
     "metadata": {},
     "source": [
      "print index x = print datapoint number x > data[x]"
     ]
    },
    {
     "cell_type": "code",
     "collapsed": false,
     "input": [
      "data[10]"
     ],
     "language": "python",
     "metadata": {},
     "outputs": [
      {
       "metadata": {},
       "output_type": "pyout",
       "prompt_number": 7,
       "text": [
        "array([  1.00000000e+00,   1.41000000e+01,   2.16000000e+00,\n",
        "         2.30000000e+00,   1.80000000e+01,   1.05000000e+02,\n",
        "         2.95000000e+00,   3.32000000e+00,   2.20000000e-01,\n",
        "         2.38000000e+00,   5.75000000e+00,   1.25000000e+00,\n",
        "         3.17000000e+00,   1.51000000e+03])"
       ]
      }
     ],
     "prompt_number": 7
    },
    {
     "cell_type": "heading",
     "level": 3,
     "metadata": {},
     "source": [
      "Next step is to min max scale all values of one index, then scale that to some parameters for the Synthdef (OSC-messages)\u00b6, but before that some basics about the communication between ipython and SC3 via OSC."
     ]
    },
    {
     "cell_type": "heading",
     "level": 1,
     "metadata": {},
     "source": [
      "Instructions/ Testing to send OSC messages to SC3 with ipython"
     ]
    },
    {
     "cell_type": "markdown",
     "metadata": {},
     "source": [
      "Download pyOSC here: https://trac.v2.nl/wiki/pyOSC And do sudo ipython setup.py install inside the pyOSC folder. \n",
      "\n",
      "On OSC more here: http://opensoundcontrol.org/introduction-osc \n",
      "\n",
      "Source: http://www.caseyanderson.com/teaching/ipython-to-supercollider-via-osc/"
     ]
    },
    {
     "cell_type": "heading",
     "level": 3,
     "metadata": {},
     "source": [
      "Load the code below in SC3 (Supercollider): http://supercollider.sourceforge.net/"
     ]
    },
    {
     "cell_type": "raw",
     "metadata": {},
     "source": [
      "(\n",
      "SynthDef(\"grain\", { |out, amp=0.1, freq=440, sustain=0.01, pan|\n",
      "\tvar snd = FSinOsc.ar(freq);\n",
      "\tvar amp2 = amp * AmpComp.ir(freq.max(50)) * 0.5;\n",
      "\tvar env = EnvGen.ar(Env.sine(sustain, amp2), doneAction: 2);\n",
      "\tOffsetOut.ar(out, Pan2.ar(snd * env, pan));\n",
      "}, \\ir ! 5).add;\n",
      "\n",
      ")"
     ]
    },
    {
     "cell_type": "code",
     "collapsed": false,
     "input": [
      "import OSC\n",
      "import time, random\n",
      "client = OSC.OSCClient()\n",
      "client.connect( ( '127.0.0.1', 57110 ) )"
     ],
     "language": "python",
     "metadata": {},
     "outputs": [],
     "prompt_number": 17
    },
    {
     "cell_type": "markdown",
     "metadata": {},
     "source": [
      "OSC message to send: \n",
      "s.sendMsg(\"s_new\", \\grain, -1, 0, 1, \\freq, 200, \\sustain, 0.1, \\pan, -1.0); // even more efficient, as no Synth object is created."
     ]
    },
    {
     "cell_type": "code",
     "collapsed": false,
     "input": [
      "msg = OSC.OSCMessage()\n",
      "msg.setAddress(\"s_new\")\n",
      "msg.append(\"grain\")\n",
      "msg.append(-1)\n",
      "msg.append(0)\n",
      "msg.append(1)\n",
      "msg.append(\"amp\")\n",
      "msg.append(1)\n",
      "msg.append(\"freq\")\n",
      "msg.append(4000)\n",
      "msg.append(\"sustain\")\n",
      "msg.append(0.1)\n",
      "msg.append(\"pan\")\n",
      "msg.append(0)\n",
      "client.send(msg)"
     ],
     "language": "python",
     "metadata": {},
     "outputs": [],
     "prompt_number": 21
    },
    {
     "cell_type": "code",
     "collapsed": false,
     "input": [
      "import time, sys\n",
      "for i in range(100):\n",
      "    \n",
      "    msg = OSC.OSCMessage()\n",
      "    msg.setAddress(\"s_new\")\n",
      "    msg.append(\"grain\")\n",
      "    msg.append(-1)\n",
      "    msg.append(0)\n",
      "    msg.append(1)\n",
      "    msg.append(\"amp\")\n",
      "    msg.append(1)\n",
      "    msg.append(\"freq\")\n",
      "    msg.append(440+(i*10))\n",
      "    msg.append(\"sustain\")\n",
      "    msg.append(0.1)\n",
      "    msg.append(\"pan\")\n",
      "    msg.append(0)\n",
      "    client.send(msg)\n",
      "    \n",
      "    time.sleep(0.04)"
     ],
     "language": "python",
     "metadata": {},
     "outputs": [],
     "prompt_number": 33
    },
    {
     "cell_type": "heading",
     "level": 2,
     "metadata": {},
     "source": [
      "To do: Bundle and time stamp \u2191"
     ]
    },
    {
     "cell_type": "code",
     "collapsed": false,
     "input": [
      "%load_ext version_information\n",
      "%version_information numpy, scipy, matplotlib, sympy, pyosc, "
     ],
     "language": "python",
     "metadata": {},
     "outputs": [
      {
       "html": [
        "<table><tr><th>Software</th><th>Version</th></tr><tr><td>Python</td><td>2.7.6 |Anaconda 1.9.1 (x86_64)| (default, Jan 10 2014, 11:23:15) [GCC 4.0.1 (Apple Inc. build 5493)]</td></tr><tr><td>IPython</td><td>1.2.1</td></tr><tr><td>OS</td><td>posix [darwin]</td></tr><tr><td>numpy</td><td>1.8.1</td></tr><tr><td>scipy</td><td>0.13.3</td></tr><tr><td>matplotlib</td><td>1.3.1</td></tr><tr><td>sympy</td><td>0.7.5</td></tr><tr><td>pyosc</td><td>0.3.5b-5294</td></tr><tr><td colspan='2'>Tue Apr 15 20:04:22 2014 CEST</td></tr></table>"
       ],
       "json": [
        "{\"Software versions\": [{\"version\": \"2.7.6 |Anaconda 1.9.1 (x86_64)| (default, Jan 10 2014, 11:23:15) [GCC 4.0.1 (Apple Inc. build 5493)]\", \"module\": \"Python\"}, {\"version\": \"1.2.1\", \"module\": \"IPython\"}, {\"version\": \"posix [darwin]\", \"module\": \"OS\"}, {\"version\": \"1.8.1\", \"module\": \"numpy\"}, {\"version\": \"0.13.3\", \"module\": \"scipy\"}, {\"version\": \"1.3.1\", \"module\": \"matplotlib\"}, {\"version\": \"0.7.5\", \"module\": \"sympy\"}, {\"version\": \"0.3.5b-5294\", \"module\": \"pyosc\"}]}"
       ],
       "latex": [
        "\\begin{tabular}{|l|l|}\\hline\n",
        "{\\bf Software} & {\\bf Version} \\\\ \\hline\\hline\n",
        "Python & 2.7.6 |Anaconda 1.9.1 (x86\\letterunderscore{}64)| (default, Jan 10 2014, 11:23:15) [GCC 4.0.1 (Apple Inc. build 5493)] \\\\ \\hline\n",
        "IPython & 1.2.1 \\\\ \\hline\n",
        "OS & posix [darwin] \\\\ \\hline\n",
        "numpy & 1.8.1 \\\\ \\hline\n",
        "scipy & 0.13.3 \\\\ \\hline\n",
        "matplotlib & 1.3.1 \\\\ \\hline\n",
        "sympy & 0.7.5 \\\\ \\hline\n",
        "pyosc & 0.3.5b-5294 \\\\ \\hline\n",
        "\\hline \\multicolumn{2}{|l|}{Tue Apr 15 20:04:22 2014 CEST} \\\\ \\hline\n",
        "\\end{tabular}\n"
       ],
       "metadata": {},
       "output_type": "pyout",
       "prompt_number": 14,
       "text": [
        "Software versions\n",
        "Python 2.7.6 |Anaconda 1.9.1 (x86_64)| (default, Jan 10 2014, 11:23:15) [GCC 4.0.1 (Apple Inc. build 5493)]\n",
        "IPython 1.2.1\n",
        "OS posix [darwin]\n",
        "numpy 1.8.1\n",
        "scipy 0.13.3\n",
        "matplotlib 1.3.1\n",
        "sympy 0.7.5\n",
        "pyosc 0.3.5b-5294\n",
        "<tr><td colspan='2'>Tue Apr 15 20:04:22 2014 CEST</td></tr>"
       ]
      }
     ],
     "prompt_number": 14
    },
    {
     "cell_type": "code",
     "collapsed": false,
     "input": [],
     "language": "python",
     "metadata": {},
     "outputs": []
    }
   ],
   "metadata": {}
  }
 ]
}