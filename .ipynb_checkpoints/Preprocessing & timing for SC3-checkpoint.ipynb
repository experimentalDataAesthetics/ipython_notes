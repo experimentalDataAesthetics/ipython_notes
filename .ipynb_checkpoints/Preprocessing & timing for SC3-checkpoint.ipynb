{
 "metadata": {
  "name": ""
 },
 "nbformat": 3,
 "nbformat_minor": 0,
 "worksheets": [
  {
   "cells": [
    {
     "cell_type": "heading",
     "level": 1,
     "metadata": {},
     "source": [
      "NumPy Basics. Working with multidimensional arrays"
     ]
    },
    {
     "cell_type": "heading",
     "level": 3,
     "metadata": {},
     "source": [
      "Basic tutorials:"
     ]
    },
    {
     "cell_type": "markdown",
     "metadata": {},
     "source": [
      "http://wiki.scipy.org/Tentative_NumPy_Tutorial\n",
      "\n",
      "http://www.python-kurs.eu/numpy.php\n",
      "\n",
      "http://nbviewer.ipython.org/github/jrjohansson/scientific-python-lectures/blob/master/Lecture-2-Numpy.ipynb"
     ]
    },
    {
     "cell_type": "code",
     "collapsed": false,
     "input": [
      "import numpy as np\n",
      "from StringIO import StringIO"
     ],
     "language": "python",
     "metadata": {},
     "outputs": [],
     "prompt_number": 3
    },
    {
     "cell_type": "heading",
     "level": 3,
     "metadata": {},
     "source": [
      "Loading data into numpy"
     ]
    },
    {
     "cell_type": "code",
     "collapsed": false,
     "input": [
      "!head wine_names.csv"
     ],
     "language": "python",
     "metadata": {},
     "outputs": [
      {
       "output_type": "stream",
       "stream": "stdout",
       "text": [
        "Class, a, b, c, d, e, f, g, h, i, j, k, l, m\r\n",
        "1,14.23,1.71,2.43,15.6,127,2.8,3.06,.28,2.29,5.64,1.04,3.92,1065\r\n",
        "1,13.2,1.78,2.14,11.2,100,2.65,2.76,.26,1.28,4.38,1.05,3.4,1050\r\n",
        "1,13.16,2.36,2.67,18.6,101,2.8,3.24,.3,2.81,5.68,1.03,3.17,1185\r\n",
        "1,14.37,1.95,2.5,16.8,113,3.85,3.49,.24,2.18,7.8,.86,3.45,1480\r\n",
        "1,13.24,2.59,2.87,21,118,2.8,2.69,.39,1.82,4.32,1.04,2.93,735\r\n",
        "1,14.2,1.76,2.45,15.2,112,3.27,3.39,.34,1.97,6.75,1.05,2.85,1450\r\n",
        "1,14.39,1.87,2.45,14.6,96,2.5,2.52,.3,1.98,5.25,1.02,3.58,1290\r\n",
        "1,14.06,2.15,2.61,17.6,121,2.6,2.51,.31,1.25,5.05,1.06,3.58,1295\r\n",
        "1,14.83,1.64,2.17,14,97,2.8,2.98,.29,1.98,5.2,1.08,2.85,1045\r\n"
       ]
      }
     ],
     "prompt_number": 79
    },
    {
     "cell_type": "markdown",
     "metadata": {},
     "source": [
      "http://stackoverflow.com/questions/12336234/read-csv-file-to-numpy-array-first-row-as-strings-rest-as-float"
     ]
    },
    {
     "cell_type": "code",
     "collapsed": false,
     "input": [
      "data = np.genfromtxt(\"wine_names.csv\", dtype=None, delimiter=',', skip_header=1) "
     ],
     "language": "python",
     "metadata": {},
     "outputs": [],
     "prompt_number": 71
    },
    {
     "cell_type": "code",
     "collapsed": false,
     "input": [
      "data = np.genfromtxt(\"wine_names.csv\", dtype=float, delimiter=',', skip_header=1) "
     ],
     "language": "python",
     "metadata": {},
     "outputs": [],
     "prompt_number": 4
    },
    {
     "cell_type": "code",
     "collapsed": false,
     "input": [
      "data"
     ],
     "language": "python",
     "metadata": {},
     "outputs": [
      {
       "metadata": {},
       "output_type": "pyout",
       "prompt_number": 5,
       "text": [
        "array([[  1.00000000e+00,   1.42300000e+01,   1.71000000e+00, ...,\n",
        "          1.04000000e+00,   3.92000000e+00,   1.06500000e+03],\n",
        "       [  1.00000000e+00,   1.32000000e+01,   1.78000000e+00, ...,\n",
        "          1.05000000e+00,   3.40000000e+00,   1.05000000e+03],\n",
        "       [  1.00000000e+00,   1.31600000e+01,   2.36000000e+00, ...,\n",
        "          1.03000000e+00,   3.17000000e+00,   1.18500000e+03],\n",
        "       ..., \n",
        "       [  3.00000000e+00,   1.32700000e+01,   4.28000000e+00, ...,\n",
        "          5.90000000e-01,   1.56000000e+00,   8.35000000e+02],\n",
        "       [  3.00000000e+00,   1.31700000e+01,   2.59000000e+00, ...,\n",
        "          6.00000000e-01,   1.62000000e+00,   8.40000000e+02],\n",
        "       [  3.00000000e+00,   1.41300000e+01,   4.10000000e+00, ...,\n",
        "          6.10000000e-01,   1.60000000e+00,   5.60000000e+02]])"
       ]
      }
     ],
     "prompt_number": 5
    },
    {
     "cell_type": "markdown",
     "metadata": {},
     "source": [
      "Data is from:\n",
      "\n",
      "https://archive.ics.uci.edu/ml/datasets/Wine"
     ]
    },
    {
     "cell_type": "heading",
     "level": 4,
     "metadata": {},
     "source": [
      "Numpy Basics"
     ]
    },
    {
     "cell_type": "markdown",
     "metadata": {},
     "source": [
      "ndarray.ndim > the number of axes (dimensions) of the array. In the Python world, the number of dimensions is referred to as rank. (Commentary: This is not = dimensions (columns)??\n",
      "\n",
      "ndarray.shape > the dimensions of the array. This is a tuple of integers indicating the size of the array in each dimension. For a matrix with n rows (Reihen) and m columns (Spalten), shape will be (n,m). The length of the shape tuple is therefore the rank, or number of dimensions, ndim. \n",
      "\n",
      "ndarray.size > the total number of elements of the array. This is equal to the product of the elements of shape. \n",
      "\n",
      "ndarray.dtype > an object describing the type of the elements in the array. One can create or specify dtype's using standard Python types. Additionally NumPy provides types of its own. numpy.int32, numpy.int16, and numpy.float64 are some examples. "
     ]
    },
    {
     "cell_type": "markdown",
     "metadata": {},
     "source": [
      "http://docs.scipy.org/doc/numpy/reference/generated/numpy.ndarray.html#numpy.ndarray"
     ]
    },
    {
     "cell_type": "code",
     "collapsed": false,
     "input": [
      "data.shape"
     ],
     "language": "python",
     "metadata": {},
     "outputs": [
      {
       "metadata": {},
       "output_type": "pyout",
       "prompt_number": 73,
       "text": [
        "(178, 14)"
       ]
      }
     ],
     "prompt_number": 73
    },
    {
     "cell_type": "markdown",
     "metadata": {},
     "source": [
      "177 rows and 14 columns, 177 datapoints with 14 dimensions"
     ]
    },
    {
     "cell_type": "code",
     "collapsed": false,
     "input": [
      "data.ndim"
     ],
     "language": "python",
     "metadata": {},
     "outputs": [
      {
       "metadata": {},
       "output_type": "pyout",
       "prompt_number": 74,
       "text": [
        "2"
       ]
      }
     ],
     "prompt_number": 74
    },
    {
     "cell_type": "heading",
     "level": 4,
     "metadata": {},
     "source": [
      "Print options"
     ]
    },
    {
     "cell_type": "code",
     "collapsed": false,
     "input": [
      "np.set_printoptions(threshold='nan')"
     ],
     "language": "python",
     "metadata": {},
     "outputs": [],
     "prompt_number": 128
    },
    {
     "cell_type": "markdown",
     "metadata": {},
     "source": [
      "Print everything \u2191"
     ]
    },
    {
     "cell_type": "code",
     "collapsed": false,
     "input": [
      "np.set_printoptions(edgeitems=3,infstr='inf',\n",
      "linewidth=75, nanstr='nan', precision=8,\n",
      "suppress=False, threshold=1000, formatter=None)"
     ],
     "language": "python",
     "metadata": {},
     "outputs": [],
     "prompt_number": 75
    },
    {
     "cell_type": "markdown",
     "metadata": {},
     "source": [
      "Default settings \u2191"
     ]
    },
    {
     "cell_type": "heading",
     "level": 4,
     "metadata": {},
     "source": [
      "Read-in a row or data point with index n"
     ]
    },
    {
     "cell_type": "code",
     "collapsed": false,
     "input": [
      "data[10]"
     ],
     "language": "python",
     "metadata": {},
     "outputs": [
      {
       "metadata": {},
       "output_type": "pyout",
       "prompt_number": 90,
       "text": [
        "array([  1.00000000e+00,   1.41000000e+01,   2.16000000e+00,\n",
        "         2.30000000e+00,   1.80000000e+01,   1.05000000e+02,\n",
        "         2.95000000e+00,   3.32000000e+00,   2.20000000e-01,\n",
        "         2.38000000e+00,   5.75000000e+00,   1.25000000e+00,\n",
        "         3.17000000e+00,   1.51000000e+03])"
       ]
      }
     ],
     "prompt_number": 90
    },
    {
     "cell_type": "heading",
     "level": 4,
     "metadata": {},
     "source": [
      "Read-in a column (dimension)"
     ]
    },
    {
     "cell_type": "code",
     "collapsed": false,
     "input": [
      "data[:,1]"
     ],
     "language": "python",
     "metadata": {},
     "outputs": [
      {
       "metadata": {},
       "output_type": "pyout",
       "prompt_number": 92,
       "text": [
        "array([ 14.23,  13.2 ,  13.16,  14.37,  13.24,  14.2 ,  14.39,  14.06,\n",
        "        14.83,  13.86,  14.1 ,  14.12,  13.75,  14.75,  14.38,  13.63,\n",
        "        14.3 ,  13.83,  14.19,  13.64,  14.06,  12.93,  13.71,  12.85,\n",
        "        13.5 ,  13.05,  13.39,  13.3 ,  13.87,  14.02,  13.73,  13.58,\n",
        "        13.68,  13.76,  13.51,  13.48,  13.28,  13.05,  13.07,  14.22,\n",
        "        13.56,  13.41,  13.88,  13.24,  13.05,  14.21,  14.38,  13.9 ,\n",
        "        14.1 ,  13.94,  13.05,  13.83,  13.82,  13.77,  13.74,  13.56,\n",
        "        14.22,  13.29,  13.72,  12.37,  12.33,  12.64,  13.67,  12.37,\n",
        "        12.17,  12.37,  13.11,  12.37,  13.34,  12.21,  12.29,  13.86,\n",
        "        13.49,  12.99,  11.96,  11.66,  13.03,  11.84,  12.33,  12.7 ,\n",
        "        12.  ,  12.72,  12.08,  13.05,  11.84,  12.67,  12.16,  11.65,\n",
        "        11.64,  12.08,  12.08,  12.  ,  12.69,  12.29,  11.62,  12.47,\n",
        "        11.81,  12.29,  12.37,  12.29,  12.08,  12.6 ,  12.34,  11.82,\n",
        "        12.51,  12.42,  12.25,  12.72,  12.22,  11.61,  11.46,  12.52,\n",
        "        11.76,  11.41,  12.08,  11.03,  11.82,  12.42,  12.77,  12.  ,\n",
        "        11.45,  11.56,  12.42,  13.05,  11.87,  12.07,  12.43,  11.79,\n",
        "        12.37,  12.04,  12.86,  12.88,  12.81,  12.7 ,  12.51,  12.6 ,\n",
        "        12.25,  12.53,  13.49,  12.84,  12.93,  13.36,  13.52,  13.62,\n",
        "        12.25,  13.16,  13.88,  12.87,  13.32,  13.08,  13.5 ,  12.79,\n",
        "        13.11,  13.23,  12.58,  13.17,  13.84,  12.45,  14.34,  13.48,\n",
        "        12.36,  13.69,  12.85,  12.96,  13.78,  13.73,  13.45,  12.82,\n",
        "        13.58,  13.4 ,  12.2 ,  12.77,  14.16,  13.71,  13.4 ,  13.27,\n",
        "        13.17,  14.13])"
       ]
      }
     ],
     "prompt_number": 92
    },
    {
     "cell_type": "heading",
     "level": 4,
     "metadata": {},
     "source": [
      "Read-in a value inside an array"
     ]
    },
    {
     "cell_type": "markdown",
     "metadata": {},
     "source": [
      "first value (index [0, n]) of second dimension [n, 1]  = second column"
     ]
    },
    {
     "cell_type": "code",
     "collapsed": false,
     "input": [
      "data[0,1] "
     ],
     "language": "python",
     "metadata": {},
     "outputs": [
      {
       "metadata": {},
       "output_type": "pyout",
       "prompt_number": 103,
       "text": [
        "14.23"
       ]
      }
     ],
     "prompt_number": 103
    },
    {
     "cell_type": "markdown",
     "metadata": {},
     "source": [
      "second value (index [1, n]) of second dimension [n, 1]  = second column"
     ]
    },
    {
     "cell_type": "code",
     "collapsed": false,
     "input": [
      "data[1,1] "
     ],
     "language": "python",
     "metadata": {},
     "outputs": [
      {
       "metadata": {},
       "output_type": "pyout",
       "prompt_number": 104,
       "text": [
        "13.199999999999999"
       ]
      }
     ],
     "prompt_number": 104
    },
    {
     "cell_type": "heading",
     "level": 3,
     "metadata": {},
     "source": [
      "With this \"Printing\" and accessing of values of one data point is manageable. The next step is to min max scale all values of one dimension to some parameters for the Synthdef (OSC-messages) such as frequency or something different. "
     ]
    },
    {
     "cell_type": "markdown",
     "metadata": {},
     "source": [
      "Before that some basics about the communication between ipython and SC3 via OSC."
     ]
    },
    {
     "cell_type": "heading",
     "level": 2,
     "metadata": {},
     "source": [
      "How to send OSC messages to SC3 with ipython?"
     ]
    },
    {
     "cell_type": "markdown",
     "metadata": {},
     "source": [
      "Download pyOSC here: https://trac.v2.nl/wiki/pyOSC And do sudo ipython setup.py install inside the pyOSC folder. \n",
      "\n",
      "On OSC more here: http://opensoundcontrol.org/introduction-osc \n",
      "\n",
      "Source: http://www.caseyanderson.com/teaching/ipython-to-supercollider-via-osc/"
     ]
    },
    {
     "cell_type": "heading",
     "level": 3,
     "metadata": {},
     "source": [
      "Load the code below in SC3 (Supercollider): http://supercollider.sourceforge.net/"
     ]
    },
    {
     "cell_type": "raw",
     "metadata": {},
     "source": [
      "(\n",
      "SynthDef(\"grain\", { |out, amp=0.1, freq=440, sustain=0.01, pan|\n",
      "\tvar snd = FSinOsc.ar(freq);\n",
      "\tvar amp2 = amp * AmpComp.ir(freq.max(50)) * 0.5;\n",
      "\tvar env = EnvGen.ar(Env.sine(sustain, amp2), doneAction: 2);\n",
      "\tOffsetOut.ar(out, Pan2.ar(snd * env, pan));\n",
      "}, \\ir ! 5).add;\n",
      "\n",
      ")"
     ]
    },
    {
     "cell_type": "code",
     "collapsed": false,
     "input": [
      "import OSC\n",
      "import time, random\n",
      "client = OSC.OSCClient()\n",
      "client.connect( ( '127.0.0.1', 57110 ) )"
     ],
     "language": "python",
     "metadata": {},
     "outputs": [],
     "prompt_number": 6
    },
    {
     "cell_type": "heading",
     "level": 3,
     "metadata": {},
     "source": [
      "OSC message to send: \n",
      "\n",
      "s.sendMsg(\"s_new\", \\grain, -1, 0, 1, \\freq, 200, \\sustain, 0.1, \\pan, -1.0); "
     ]
    },
    {
     "cell_type": "code",
     "collapsed": false,
     "input": [
      "msg = OSC.OSCMessage()\n",
      "msg.setAddress(\"s_new\")\n",
      "msg.append(\"grain\")\n",
      "msg.append(-1)\n",
      "msg.append(0)\n",
      "msg.append(1)\n",
      "msg.append(\"amp\")\n",
      "msg.append(1)\n",
      "msg.append(\"freq\")\n",
      "msg.append(4000)\n",
      "msg.append(\"sustain\")\n",
      "msg.append(0.1)\n",
      "msg.append(\"pan\")\n",
      "msg.append(0)\n",
      "client.send(msg)"
     ],
     "language": "python",
     "metadata": {},
     "outputs": [],
     "prompt_number": 66
    },
    {
     "cell_type": "code",
     "collapsed": false,
     "input": [
      "import time, sys\n",
      "for i in range(100):\n",
      "    \n",
      "    msg = OSC.OSCMessage()\n",
      "    msg.setAddress(\"s_new\")\n",
      "    msg.append(\"grain\")\n",
      "    msg.append(-1)\n",
      "    msg.append(0)\n",
      "    msg.append(1)\n",
      "    msg.append(\"amp\")\n",
      "    msg.append(1)\n",
      "    msg.append(\"freq\")\n",
      "    msg.append(440+(i*10))\n",
      "    msg.append(\"sustain\")\n",
      "    msg.append(0.15)\n",
      "    msg.append(\"pan\")\n",
      "    msg.append(1)\n",
      "    client.send(msg)\n",
      "    \n",
      "    msg = OSC.OSCMessage()\n",
      "    msg.setAddress(\"s_new\")\n",
      "    msg.append(\"grain\")\n",
      "    msg.append(-1)\n",
      "    msg.append(0)\n",
      "    msg.append(1)\n",
      "    msg.append(\"amp\")\n",
      "    msg.append(1)\n",
      "    msg.append(\"freq\")\n",
      "    msg.append(1440+(i*10))\n",
      "    msg.append(\"sustain\")\n",
      "    msg.append(0.15)\n",
      "    msg.append(\"pan\")\n",
      "    msg.append(-1)\n",
      "    client.send(msg)\n",
      "    \n",
      "    time.sleep(0.04)"
     ],
     "language": "python",
     "metadata": {},
     "outputs": [],
     "prompt_number": 7
    },
    {
     "cell_type": "heading",
     "level": 2,
     "metadata": {},
     "source": [
      "Loading the array"
     ]
    },
    {
     "cell_type": "code",
     "collapsed": false,
     "input": [
      "data[0,1]"
     ],
     "language": "python",
     "metadata": {},
     "outputs": [
      {
       "metadata": {},
       "output_type": "pyout",
       "prompt_number": 116,
       "text": [
        "14.23"
       ]
      }
     ],
     "prompt_number": 116
    },
    {
     "cell_type": "heading",
     "level": 3,
     "metadata": {},
     "source": [
      "Reading-out values from the array with a timed loop"
     ]
    },
    {
     "cell_type": "markdown",
     "metadata": {},
     "source": [
      "reading out one data point"
     ]
    },
    {
     "cell_type": "code",
     "collapsed": false,
     "input": [
      "data[1,:]"
     ],
     "language": "python",
     "metadata": {},
     "outputs": [
      {
       "metadata": {},
       "output_type": "pyout",
       "prompt_number": 194,
       "text": [
        "array([  1.00000000e+00,   1.32000000e+01,   1.78000000e+00,\n",
        "         2.14000000e+00,   1.12000000e+01,   1.00000000e+02,\n",
        "         2.65000000e+00,   2.76000000e+00,   2.60000000e-01,\n",
        "         1.28000000e+00,   4.38000000e+00,   1.05000000e+00,\n",
        "         3.40000000e+00,   1.05000000e+03])"
       ]
      }
     ],
     "prompt_number": 194
    },
    {
     "cell_type": "code",
     "collapsed": false,
     "input": [
      "import time, sys\n",
      "for i in range (14):\n",
      "    print data[1,i]\n",
      "    time.sleep(0.4)"
     ],
     "language": "python",
     "metadata": {},
     "outputs": [
      {
       "output_type": "stream",
       "stream": "stdout",
       "text": [
        "1.0\n",
        "13.2"
       ]
      },
      {
       "output_type": "stream",
       "stream": "stdout",
       "text": [
        "\n",
        "1.78"
       ]
      },
      {
       "output_type": "stream",
       "stream": "stdout",
       "text": [
        "\n",
        "2.14"
       ]
      },
      {
       "output_type": "stream",
       "stream": "stdout",
       "text": [
        "\n",
        "11.2"
       ]
      },
      {
       "output_type": "stream",
       "stream": "stdout",
       "text": [
        "\n",
        "100.0"
       ]
      },
      {
       "output_type": "stream",
       "stream": "stdout",
       "text": [
        "\n",
        "2.65"
       ]
      },
      {
       "output_type": "stream",
       "stream": "stdout",
       "text": [
        "\n",
        "2.76"
       ]
      },
      {
       "output_type": "stream",
       "stream": "stdout",
       "text": [
        "\n",
        "0.26"
       ]
      },
      {
       "output_type": "stream",
       "stream": "stdout",
       "text": [
        "\n",
        "1.28"
       ]
      },
      {
       "output_type": "stream",
       "stream": "stdout",
       "text": [
        "\n",
        "4.38"
       ]
      },
      {
       "output_type": "stream",
       "stream": "stdout",
       "text": [
        "\n",
        "1.05"
       ]
      },
      {
       "output_type": "stream",
       "stream": "stdout",
       "text": [
        "\n",
        "3.4"
       ]
      },
      {
       "output_type": "stream",
       "stream": "stdout",
       "text": [
        "\n",
        "1050.0"
       ]
      },
      {
       "output_type": "stream",
       "stream": "stdout",
       "text": [
        "\n"
       ]
      }
     ],
     "prompt_number": 130
    },
    {
     "cell_type": "heading",
     "level": 2,
     "metadata": {},
     "source": [
      "Min max scaling the data"
     ]
    },
    {
     "cell_type": "markdown",
     "metadata": {},
     "source": [
      "reading-out one dimension"
     ]
    },
    {
     "cell_type": "code",
     "collapsed": false,
     "input": [
      "data[:,1]"
     ],
     "language": "python",
     "metadata": {},
     "outputs": [
      {
       "metadata": {},
       "output_type": "pyout",
       "prompt_number": 153,
       "text": [
        "array([ 14.23,  13.2 ,  13.16,  14.37,  13.24,  14.2 ,  14.39,  14.06,\n",
        "        14.83,  13.86,  14.1 ,  14.12,  13.75,  14.75,  14.38,  13.63,\n",
        "        14.3 ,  13.83,  14.19,  13.64,  14.06,  12.93,  13.71,  12.85,\n",
        "        13.5 ,  13.05,  13.39,  13.3 ,  13.87,  14.02,  13.73,  13.58,\n",
        "        13.68,  13.76,  13.51,  13.48,  13.28,  13.05,  13.07,  14.22,\n",
        "        13.56,  13.41,  13.88,  13.24,  13.05,  14.21,  14.38,  13.9 ,\n",
        "        14.1 ,  13.94,  13.05,  13.83,  13.82,  13.77,  13.74,  13.56,\n",
        "        14.22,  13.29,  13.72,  12.37,  12.33,  12.64,  13.67,  12.37,\n",
        "        12.17,  12.37,  13.11,  12.37,  13.34,  12.21,  12.29,  13.86,\n",
        "        13.49,  12.99,  11.96,  11.66,  13.03,  11.84,  12.33,  12.7 ,\n",
        "        12.  ,  12.72,  12.08,  13.05,  11.84,  12.67,  12.16,  11.65,\n",
        "        11.64,  12.08,  12.08,  12.  ,  12.69,  12.29,  11.62,  12.47,\n",
        "        11.81,  12.29,  12.37,  12.29,  12.08,  12.6 ,  12.34,  11.82,\n",
        "        12.51,  12.42,  12.25,  12.72,  12.22,  11.61,  11.46,  12.52,\n",
        "        11.76,  11.41,  12.08,  11.03,  11.82,  12.42,  12.77,  12.  ,\n",
        "        11.45,  11.56,  12.42,  13.05,  11.87,  12.07,  12.43,  11.79,\n",
        "        12.37,  12.04,  12.86,  12.88,  12.81,  12.7 ,  12.51,  12.6 ,\n",
        "        12.25,  12.53,  13.49,  12.84,  12.93,  13.36,  13.52,  13.62,\n",
        "        12.25,  13.16,  13.88,  12.87,  13.32,  13.08,  13.5 ,  12.79,\n",
        "        13.11,  13.23,  12.58,  13.17,  13.84,  12.45,  14.34,  13.48,\n",
        "        12.36,  13.69,  12.85,  12.96,  13.78,  13.73,  13.45,  12.82,\n",
        "        13.58,  13.4 ,  12.2 ,  12.77,  14.16,  13.71,  13.4 ,  13.27,\n",
        "        13.17,  14.13])"
       ]
      }
     ],
     "prompt_number": 153
    },
    {
     "cell_type": "heading",
     "level": 4,
     "metadata": {},
     "source": [
      "Maxiumum and minimum within one dimension (column)"
     ]
    },
    {
     "cell_type": "code",
     "collapsed": false,
     "input": [
      "np.amax((data[:,1]))"
     ],
     "language": "python",
     "metadata": {},
     "outputs": [
      {
       "metadata": {},
       "output_type": "pyout",
       "prompt_number": 154,
       "text": [
        "14.83"
       ]
      }
     ],
     "prompt_number": 154
    },
    {
     "cell_type": "code",
     "collapsed": false,
     "input": [
      "np.amin((data[:,1]))"
     ],
     "language": "python",
     "metadata": {},
     "outputs": [
      {
       "metadata": {},
       "output_type": "pyout",
       "prompt_number": 156,
       "text": [
        "11.029999999999999"
       ]
      }
     ],
     "prompt_number": 156
    },
    {
     "cell_type": "code",
     "collapsed": false,
     "input": [
      "np.amax((data[:,1]))-np.amin((data[:,1]))"
     ],
     "language": "python",
     "metadata": {},
     "outputs": [
      {
       "metadata": {},
       "output_type": "pyout",
       "prompt_number": 178,
       "text": [
        "3.8000000000000007"
       ]
      }
     ],
     "prompt_number": 178
    },
    {
     "cell_type": "heading",
     "level": 4,
     "metadata": {},
     "source": [
      "reading-out all values of one dimension scaled between 0 and 1"
     ]
    },
    {
     "cell_type": "code",
     "collapsed": false,
     "input": [
      "dimension = 12\n",
      "datanew = (data[:,dimension] - np.amin((data[:,dimension]))) / (np.amax((data[:,dimension]))-np.amin((data[:,dimension])))"
     ],
     "language": "python",
     "metadata": {},
     "outputs": [],
     "prompt_number": 14
    },
    {
     "cell_type": "code",
     "collapsed": false,
     "input": [
      "datanew"
     ],
     "language": "python",
     "metadata": {},
     "outputs": [
      {
       "metadata": {},
       "output_type": "pyout",
       "prompt_number": 15,
       "text": [
        "array([ 0.97069597,  0.78021978,  0.6959707 ,  0.7985348 ,  0.60805861,\n",
        "        0.57875458,  0.84615385,  0.84615385,  0.57875458,  0.83516484,\n",
        "        0.6959707 ,  0.56776557,  0.5970696 ,  0.53479853,  0.63369963,\n",
        "        0.58974359,  0.50549451,  0.47619048,  0.56776557,  0.76556777,\n",
        "        0.89377289,  0.82417582,  1.        ,  0.86446886,  0.93406593,\n",
        "        0.70695971,  0.71428571,  0.54945055,  0.78021978,  0.84981685,\n",
        "        0.52747253,  0.58974359,  0.58608059,  0.63369963,  0.58608059,\n",
        "        0.80586081,  0.55311355,  0.45421245,  0.52014652,  0.82783883,\n",
        "        0.77289377,  0.63369963,  0.83882784,  0.63369963,  0.76190476,\n",
        "        0.75457875,  0.79487179,  0.75457875,  0.54212454,  0.67032967,\n",
        "        0.6007326 ,  0.76923077,  0.72893773,  0.60805861,  0.70695971,\n",
        "        0.64468864,  0.74725275,  0.57509158,  0.58608059,  0.2014652 ,\n",
        "        0.14652015,  0.11721612,  0.43589744,  0.58608059,  0.35164835,\n",
        "        0.37728938,  0.6996337 ,  0.80952381,  0.24175824,  0.65934066,\n",
        "        0.2014652 ,  0.69230769,  0.55311355,  0.81684982,  0.68131868,\n",
        "        0.31868132,  0.44322344,  0.45787546,  0.38095238,  0.68131868,\n",
        "        0.67765568,  0.68498168,  0.53113553,  0.27106227,  0.66300366,\n",
        "        0.69230769,  0.36263736,  0.71062271,  0.54212454,  0.71062271,\n",
        "        0.36630037,  0.50549451,  0.28937729,  0.74358974,  0.61904762,\n",
        "        0.4981685 ,  0.36263736,  0.53846154,  0.54945055,  0.57142857,\n",
        "        0.61904762,  0.54945055,  0.77289377,  0.42857143,  0.84249084,\n",
        "        0.74358974,  0.6959707 ,  0.42124542,  0.64102564,  0.72893773,\n",
        "        0.56410256,  0.55311355,  0.45054945,  0.38095238,  0.7032967 ,\n",
        "        0.58608059,  0.75457875,  0.61904762,  0.31135531,  0.65201465,\n",
        "        0.77655678,  0.88644689,  0.67765568,  0.67032967,  0.86813187,\n",
        "        0.73626374,  0.57509158,  0.42857143,  0.55311355,  0.47619048,\n",
        "        0.00732601,  0.05494505,  0.03296703,  0.00732601,  0.08791209,\n",
        "        0.11355311,  0.        ,  0.15384615,  0.2014652 ,  0.32234432,\n",
        "        0.38095238,  0.43956044,  0.28937729,  0.28571429,  0.26739927,\n",
        "        0.15018315,  0.02197802,  0.21611722,  0.12820513,  0.02197802,\n",
        "        0.01098901,  0.07326007,  0.02197802,  0.08791209,  0.1025641 ,\n",
        "        0.07692308,  0.13553114,  0.16849817,  0.25274725,  0.18681319,\n",
        "        0.11355311,  0.2014652 ,  0.30769231,  0.17582418,  0.15018315,\n",
        "        0.17582418,  0.10622711,  0.17582418,  0.19413919,  0.23809524,\n",
        "        0.20512821,  0.13186813,  0.16117216,  0.17216117,  0.10622711,\n",
        "        0.10622711,  0.12820513,  0.12087912])"
       ]
      }
     ],
     "prompt_number": 15
    },
    {
     "cell_type": "code",
     "collapsed": false,
     "input": [
      "data0 = (data[:,0] - np.amin((data[:,0]))) / (np.amax((data[:,0]))-np.amin((data[:,0])))\n",
      "data1 = (data[:,1] - np.amin((data[:,1]))) / (np.amax((data[:,1]))-np.amin((data[:,1])))\n",
      "data2 = (data[:,2] - np.amin((data[:,2]))) / (np.amax((data[:,2]))-np.amin((data[:,2])))"
     ],
     "language": "python",
     "metadata": {},
     "outputs": [],
     "prompt_number": 34
    },
    {
     "cell_type": "code",
     "collapsed": false,
     "input": [],
     "language": "python",
     "metadata": {},
     "outputs": []
    },
    {
     "cell_type": "code",
     "collapsed": false,
     "input": [
      "data_all = np.column_stack([data0, data1, data2])"
     ],
     "language": "python",
     "metadata": {},
     "outputs": [],
     "prompt_number": 36
    },
    {
     "cell_type": "markdown",
     "metadata": {},
     "source": [
      "http://docs.scipy.org/doc/numpy/reference/generated/numpy.column_stack.html"
     ]
    },
    {
     "cell_type": "code",
     "collapsed": false,
     "input": [
      "data_all"
     ],
     "language": "python",
     "metadata": {},
     "outputs": [
      {
       "metadata": {},
       "output_type": "pyout",
       "prompt_number": 39,
       "text": [
        "array([[ 0.        ,  0.84210526,  0.1916996 ],\n",
        "       [ 0.        ,  0.57105263,  0.2055336 ],\n",
        "       [ 0.        ,  0.56052632,  0.3201581 ],\n",
        "       [ 0.        ,  0.87894737,  0.23913043],\n",
        "       [ 0.        ,  0.58157895,  0.36561265],\n",
        "       [ 0.        ,  0.83421053,  0.20158103],\n",
        "       [ 0.        ,  0.88421053,  0.22332016],\n",
        "       [ 0.        ,  0.79736842,  0.27865613],\n",
        "       [ 0.        ,  1.        ,  0.17786561],\n",
        "       [ 0.        ,  0.74473684,  0.12055336],\n",
        "       [ 0.        ,  0.80789474,  0.28063241],\n",
        "       [ 0.        ,  0.81315789,  0.14624506],\n",
        "       [ 0.        ,  0.71578947,  0.19565217],\n",
        "       [ 0.        ,  0.97894737,  0.19565217],\n",
        "       [ 0.        ,  0.88157895,  0.22332016],\n",
        "       [ 0.        ,  0.68421053,  0.21146245],\n",
        "       [ 0.        ,  0.86052632,  0.23320158],\n",
        "       [ 0.        ,  0.73684211,  0.16403162],\n",
        "       [ 0.        ,  0.83157895,  0.16798419],\n",
        "       [ 0.        ,  0.68684211,  0.46640316],\n",
        "       [ 0.        ,  0.79736842,  0.17588933],\n",
        "       [ 0.        ,  0.5       ,  0.60474308],\n",
        "       [ 0.        ,  0.70526316,  0.22134387],\n",
        "       [ 0.        ,  0.47894737,  0.16996047],\n",
        "       [ 0.        ,  0.65      ,  0.21146245],\n",
        "       [ 0.        ,  0.53157895,  0.25889328],\n",
        "       [ 0.        ,  0.62105263,  0.20355731],\n",
        "       [ 0.        ,  0.59736842,  0.19367589],\n",
        "       [ 0.        ,  0.74736842,  0.22924901],\n",
        "       [ 0.        ,  0.78684211,  0.18577075],\n",
        "       [ 0.        ,  0.71052632,  0.15019763],\n",
        "       [ 0.        ,  0.67105263,  0.18181818],\n",
        "       [ 0.        ,  0.69736842,  0.21541502],\n",
        "       [ 0.        ,  0.71842105,  0.15612648],\n",
        "       [ 0.        ,  0.65263158,  0.20948617],\n",
        "       [ 0.        ,  0.64473684,  0.21146245],\n",
        "       [ 0.        ,  0.59210526,  0.17786561],\n",
        "       [ 0.        ,  0.53157895,  0.1798419 ],\n",
        "       [ 0.        ,  0.53684211,  0.15019763],\n",
        "       [ 0.        ,  0.83947368,  0.64229249],\n",
        "       [ 0.        ,  0.66578947,  0.1916996 ],\n",
        "       [ 0.        ,  0.62631579,  0.61264822],\n",
        "       [ 0.        ,  0.75      ,  0.22727273],\n",
        "       [ 0.        ,  0.58157895,  0.64031621],\n",
        "       [ 0.        ,  0.53157895,  0.20355731],\n",
        "       [ 0.        ,  0.83684211,  0.65217391],\n",
        "       [ 0.        ,  0.88157895,  0.56324111],\n",
        "       [ 0.        ,  0.75526316,  0.18577075],\n",
        "       [ 0.        ,  0.80789474,  0.25296443],\n",
        "       [ 0.        ,  0.76578947,  0.19565217],\n",
        "       [ 0.        ,  0.53157895,  0.19565217],\n",
        "       [ 0.        ,  0.73684211,  0.1798419 ],\n",
        "       [ 0.        ,  0.73421053,  0.19960474],\n",
        "       [ 0.        ,  0.72105263,  0.22924901],\n",
        "       [ 0.        ,  0.71315789,  0.18379447],\n",
        "       [ 0.        ,  0.66578947,  0.19565217],\n",
        "       [ 0.        ,  0.83947368,  0.18972332],\n",
        "       [ 0.        ,  0.59473684,  0.243083  ],\n",
        "       [ 0.        ,  0.70789474,  0.13636364],\n",
        "       [ 0.5       ,  0.35263158,  0.03952569],\n",
        "       [ 0.5       ,  0.34210526,  0.07114625],\n",
        "       [ 0.5       ,  0.42368421,  0.12252964],\n",
        "       [ 0.5       ,  0.69473684,  0.10079051],\n",
        "       [ 0.5       ,  0.35263158,  0.0770751 ],\n",
        "       [ 0.5       ,  0.3       ,  0.14031621],\n",
        "       [ 0.5       ,  0.35263158,  0.09288538],\n",
        "       [ 0.5       ,  0.54736842,  0.05335968],\n",
        "       [ 0.5       ,  0.35263158,  0.08498024],\n",
        "       [ 0.5       ,  0.60789474,  0.03952569],\n",
        "       [ 0.5       ,  0.31052632,  0.08893281],\n",
        "       [ 0.5       ,  0.33157895,  0.17193676],\n",
        "       [ 0.5       ,  0.74473684,  0.15217391],\n",
        "       [ 0.5       ,  0.64736842,  0.18181818],\n",
        "       [ 0.5       ,  0.51578947,  0.18379447],\n",
        "       [ 0.5       ,  0.24473684,  0.06916996],\n",
        "       [ 0.5       ,  0.16578947,  0.22529644],\n",
        "       [ 0.5       ,  0.52631579,  0.03162055],\n",
        "       [ 0.5       ,  0.21315789,  0.42490119],\n",
        "       [ 0.5       ,  0.34210526,  0.04940711],\n",
        "       [ 0.5       ,  0.43947368,  0.61857708],\n",
        "       [ 0.5       ,  0.25526316,  0.03557312],\n",
        "       [ 0.5       ,  0.44473684,  0.21146245],\n",
        "       [ 0.5       ,  0.27631579,  0.0770751 ],\n",
        "       [ 0.5       ,  0.53157895,  0.61660079],\n",
        "       [ 0.5       ,  0.21315789,  0.02964427],\n",
        "       [ 0.5       ,  0.43157895,  0.04743083],\n",
        "       [ 0.5       ,  0.29736842,  0.17193676],\n",
        "       [ 0.5       ,  0.16315789,  0.18379447],\n",
        "       [ 0.5       ,  0.16052632,  0.26086957],\n",
        "       [ 0.5       ,  0.27631579,  0.11660079],\n",
        "       [ 0.5       ,  0.27631579,  0.21541502],\n",
        "       [ 0.5       ,  0.25526316,  0.15217391],\n",
        "       [ 0.5       ,  0.43684211,  0.15612648],\n",
        "       [ 0.5       ,  0.33157895,  0.41304348],\n",
        "       [ 0.5       ,  0.15526316,  0.24703557],\n",
        "       [ 0.5       ,  0.37894737,  0.1541502 ],\n",
        "       [ 0.5       ,  0.20526316,  0.27272727],\n",
        "       [ 0.5       ,  0.33157895,  0.13241107],\n",
        "       [ 0.5       ,  0.35263158,  0.06521739],\n",
        "       [ 0.5       ,  0.33157895,  0.48023715],\n",
        "       [ 0.5       ,  0.27631579,  0.26482213],\n",
        "       [ 0.5       ,  0.41315789,  0.11857708],\n",
        "       [ 0.5       ,  0.34473684,  0.33794466],\n",
        "       [ 0.5       ,  0.20789474,  0.19367589],\n",
        "       [ 0.5       ,  0.38947368,  0.19565217],\n",
        "       [ 0.5       ,  0.36578947,  0.35770751],\n",
        "       [ 0.5       ,  0.32105263,  0.19565217],\n",
        "       [ 0.5       ,  0.44473684,  0.19960474],\n",
        "       [ 0.5       ,  0.31315789,  0.10869565],\n",
        "       [ 0.5       ,  0.15263158,  0.12055336],\n",
        "       [ 0.5       ,  0.11315789,  0.59288538],\n",
        "       [ 0.5       ,  0.39210526,  0.33399209],\n",
        "       [ 0.5       ,  0.19210526,  0.38339921],\n",
        "       [ 0.5       ,  0.1       ,  0.        ],\n",
        "       [ 0.5       ,  0.27631579,  0.1284585 ],\n",
        "       [ 0.5       ,  0.        ,  0.15217391],\n",
        "       [ 0.5       ,  0.20789474,  0.14426877],\n",
        "       [ 0.5       ,  0.36578947,  0.17193676],\n",
        "       [ 0.5       ,  0.45789474,  0.53162055],\n",
        "       [ 0.5       ,  0.25526316,  0.53162055],\n",
        "       [ 0.5       ,  0.11052632,  0.32806324],\n",
        "       [ 0.5       ,  0.13947368,  0.25889328],\n",
        "       [ 0.5       ,  0.36578947,  0.72924901],\n",
        "       [ 0.5       ,  0.53157895,  1.        ],\n",
        "       [ 0.5       ,  0.22105263,  0.7055336 ],\n",
        "       [ 0.5       ,  0.27368421,  0.28063241],\n",
        "       [ 0.5       ,  0.36842105,  0.15612648],\n",
        "       [ 0.5       ,  0.2       ,  0.27470356],\n",
        "       [ 0.5       ,  0.35263158,  0.17588933],\n",
        "       [ 0.5       ,  0.26578947,  0.70355731],\n",
        "       [ 1.        ,  0.48157895,  0.12055336],\n",
        "       [ 1.        ,  0.48684211,  0.44466403],\n",
        "       [ 1.        ,  0.46842105,  0.31027668],\n",
        "       [ 1.        ,  0.43947368,  0.55533597],\n",
        "       [ 1.        ,  0.38947368,  0.09881423],\n",
        "       [ 1.        ,  0.41315789,  0.33992095],\n",
        "       [ 1.        ,  0.32105263,  0.78656126],\n",
        "       [ 1.        ,  0.39473684,  0.94268775],\n",
        "       [ 1.        ,  0.64736842,  0.56324111],\n",
        "       [ 1.        ,  0.47631579,  0.43873518],\n",
        "       [ 1.        ,  0.5       ,  0.40909091],\n",
        "       [ 1.        ,  0.61315789,  0.35968379],\n",
        "       [ 1.        ,  0.65526316,  0.48023715],\n",
        "       [ 1.        ,  0.68157895,  0.83201581],\n",
        "       [ 1.        ,  0.32105263,  0.62055336],\n",
        "       [ 1.        ,  0.56052632,  0.55928854],\n",
        "       [ 1.        ,  0.75      ,  0.84980237],\n",
        "       [ 1.        ,  0.48421053,  0.76482213],\n",
        "       [ 1.        ,  0.60263158,  0.49407115],\n",
        "       [ 1.        ,  0.53947368,  0.62450593],\n",
        "       [ 1.        ,  0.65      ,  0.47035573],\n",
        "       [ 1.        ,  0.46315789,  0.38142292],\n",
        "       [ 1.        ,  0.54736842,  0.22924901],\n",
        "       [ 1.        ,  0.57894737,  0.50592885],\n",
        "       [ 1.        ,  0.40789474,  0.10869565],\n",
        "       [ 1.        ,  0.56315789,  0.87944664],\n",
        "       [ 1.        ,  0.73947368,  0.66798419],\n",
        "       [ 1.        ,  0.37368421,  0.45256917],\n",
        "       [ 1.        ,  0.87105263,  0.18577075],\n",
        "       [ 1.        ,  0.64473684,  0.18379447],\n",
        "       [ 1.        ,  0.35      ,  0.61067194],\n",
        "       [ 1.        ,  0.7       ,  0.49802372],\n",
        "       [ 1.        ,  0.47894737,  0.5       ],\n",
        "       [ 1.        ,  0.50789474,  0.53557312],\n",
        "       [ 1.        ,  0.72368421,  0.39920949],\n",
        "       [ 1.        ,  0.71052632,  0.71541502],\n",
        "       [ 1.        ,  0.63684211,  0.58498024],\n",
        "       [ 1.        ,  0.47105263,  0.51976285],\n",
        "       [ 1.        ,  0.67105263,  0.36363636],\n",
        "       [ 1.        ,  0.62368421,  0.76284585],\n",
        "       [ 1.        ,  0.30789474,  0.45256917],\n",
        "       [ 1.        ,  0.45789474,  0.32608696],\n",
        "       [ 1.        ,  0.82368421,  0.34980237],\n",
        "       [ 1.        ,  0.70526316,  0.97035573],\n",
        "       [ 1.        ,  0.62368421,  0.62648221],\n",
        "       [ 1.        ,  0.58947368,  0.69960474],\n",
        "       [ 1.        ,  0.56315789,  0.36561265],\n",
        "       [ 1.        ,  0.81578947,  0.66403162]])"
       ]
      }
     ],
     "prompt_number": 39
    },
    {
     "cell_type": "code",
     "collapsed": false,
     "input": [
      "data_all[1,:] "
     ],
     "language": "python",
     "metadata": {},
     "outputs": [
      {
       "metadata": {},
       "output_type": "pyout",
       "prompt_number": 24,
       "text": [
        "array([ 0.        ,  0.57105263,  0.2055336 ])"
       ]
      }
     ],
     "prompt_number": 24
    },
    {
     "cell_type": "code",
     "collapsed": false,
     "input": [
      "import time, sys\n",
      "for i in range (14):\n",
      "    print (data[:,i] - np.amin((data[:,i]))) / (np.amax((data[:,i]))-np.amin((data[:,i])))\n",
      "    time.sleep(0.04)"
     ],
     "language": "python",
     "metadata": {},
     "outputs": [
      {
       "output_type": "stream",
       "stream": "stdout",
       "text": [
        "[ 0.   0.   0.   0.   0.   0.   0.   0.   0.   0.   0.   0.   0.   0.   0.\n",
        "  0.   0.   0.   0.   0.   0.   0.   0.   0.   0.   0.   0.   0.   0.   0.\n",
        "  0.   0.   0.   0.   0.   0.   0.   0.   0.   0.   0.   0.   0.   0.   0.\n",
        "  0.   0.   0.   0.   0.   0.   0.   0.   0.   0.   0.   0.   0.   0.   0.5\n",
        "  0.5  0.5  0.5  0.5  0.5  0.5  0.5  0.5  0.5  0.5  0.5  0.5  0.5  0.5  0.5\n",
        "  0.5  0.5  0.5  0.5  0.5  0.5  0.5  0.5  0.5  0.5  0.5  0.5  0.5  0.5  0.5\n",
        "  0.5  0.5  0.5  0.5  0.5  0.5  0.5  0.5  0.5  0.5  0.5  0.5  0.5  0.5  0.5\n",
        "  0.5  0.5  0.5  0.5  0.5  0.5  0.5  0.5  0.5  0.5  0.5  0.5  0.5  0.5  0.5\n",
        "  0.5  0.5  0.5  0.5  0.5  0.5  0.5  0.5  0.5  0.5  1.   1.   1.   1.   1.\n",
        "  1.   1.   1.   1.   1.   1.   1.   1.   1.   1.   1.   1.   1.   1.   1.\n",
        "  1.   1.   1.   1.   1.   1.   1.   1.   1.   1.   1.   1.   1.   1.   1.\n",
        "  1.   1.   1.   1.   1.   1.   1.   1.   1.   1.   1.   1.   1. ]\n",
        "[ 0.84210526  0.57105263  0.56052632  0.87894737  0.58157895  0.83421053\n",
        "  0.88421053  0.79736842  1.          0.74473684  0.80789474  0.81315789\n",
        "  0.71578947  0.97894737  0.88157895  0.68421053  0.86052632  0.73684211\n",
        "  0.83157895  0.68684211  0.79736842  0.5         0.70526316  0.47894737\n",
        "  0.65        0.53157895  0.62105263  0.59736842  0.74736842  0.78684211\n",
        "  0.71052632  0.67105263  0.69736842  0.71842105  0.65263158  0.64473684\n",
        "  0.59210526  0.53157895  0.53684211  0.83947368  0.66578947  0.62631579\n",
        "  0.75        0.58157895  0.53157895  0.83684211  0.88157895  0.75526316\n",
        "  0.80789474  0.76578947  0.53157895  0.73684211  0.73421053  0.72105263\n",
        "  0.71315789  0.66578947  0.83947368  0.59473684  0.70789474  0.35263158\n",
        "  0.34210526  0.42368421  0.69473684  0.35263158  0.3         0.35263158\n",
        "  0.54736842  0.35263158  0.60789474  0.31052632  0.33157895  0.74473684\n",
        "  0.64736842  0.51578947  0.24473684  0.16578947  0.52631579  0.21315789\n",
        "  0.34210526  0.43947368  0.25526316  0.44473684  0.27631579  0.53157895\n",
        "  0.21315789  0.43157895  0.29736842  0.16315789  0.16052632  0.27631579\n",
        "  0.27631579  0.25526316  0.43684211  0.33157895  0.15526316  0.37894737\n",
        "  0.20526316  0.33157895  0.35263158  0.33157895  0.27631579  0.41315789\n",
        "  0.34473684  0.20789474  0.38947368  0.36578947  0.32105263  0.44473684\n",
        "  0.31315789  0.15263158  0.11315789  0.39210526  0.19210526  0.1\n",
        "  0.27631579  0.          0.20789474  0.36578947  0.45789474  0.25526316\n",
        "  0.11052632  0.13947368  0.36578947  0.53157895  0.22105263  0.27368421\n",
        "  0.36842105  0.2         0.35263158  0.26578947  0.48157895  0.48684211\n",
        "  0.46842105  0.43947368  0.38947368  0.41315789  0.32105263  0.39473684\n",
        "  0.64736842  0.47631579  0.5         0.61315789  0.65526316  0.68157895\n",
        "  0.32105263  0.56052632  0.75        0.48421053  0.60263158  0.53947368\n",
        "  0.65        0.46315789  0.54736842  0.57894737  0.40789474  0.56315789\n",
        "  0.73947368  0.37368421  0.87105263  0.64473684  0.35        0.7\n",
        "  0.47894737  0.50789474  0.72368421  0.71052632  0.63684211  0.47105263\n",
        "  0.67105263  0.62368421  0.30789474  0.45789474  0.82368421  0.70526316\n",
        "  0.62368421  0.58947368  0.56315789  0.81578947]\n",
        "[ 0.1916996   0.2055336   0.3201581   0.23913043  0.36561265  0.20158103\n",
        "  0.22332016  0.27865613  0.17786561  0.12055336  0.28063241  0.14624506\n",
        "  0.19565217  0.19565217  0.22332016  0.21146245  0.23320158  0.16403162\n",
        "  0.16798419  0.46640316  0.17588933  0.60474308  0.22134387  0.16996047\n",
        "  0.21146245  0.25889328  0.20355731  0.19367589  0.22924901  0.18577075\n",
        "  0.15019763  0.18181818  0.21541502  0.15612648  0.20948617  0.21146245\n",
        "  0.17786561  0.1798419   0.15019763  0.64229249  0.1916996   0.61264822\n",
        "  0.22727273  0.64031621  0.20355731  0.65217391  0.56324111  0.18577075\n",
        "  0.25296443  0.19565217  0.19565217  0.1798419   0.19960474  0.22924901\n",
        "  0.18379447  0.19565217  0.18972332  0.243083    0.13636364  0.03952569\n",
        "  0.07114625  0.12252964  0.10079051  0.0770751   0.14031621  0.09288538\n",
        "  0.05335968  0.08498024  0.03952569  0.08893281  0.17193676  0.15217391\n",
        "  0.18181818  0.18379447  0.06916996  0.22529644  0.03162055  0.42490119\n",
        "  0.04940711  0.61857708  0.03557312  0.21146245  0.0770751   0.61660079\n",
        "  0.02964427  0.04743083  0.17193676  0.18379447  0.26086957  0.11660079\n",
        "  0.21541502  0.15217391  0.15612648  0.41304348  0.24703557  0.1541502\n",
        "  0.27272727  0.13241107  0.06521739  0.48023715  0.26482213  0.11857708\n",
        "  0.33794466  0.19367589  0.19565217  0.35770751  0.19565217  0.19960474\n",
        "  0.10869565  0.12055336  0.59288538  0.33399209  0.38339921  0.          0.1284585\n",
        "  0.15217391  0.14426877  0.17193676  0.53162055  0.53162055  0.32806324\n",
        "  0.25889328  0.72924901  1.          0.7055336   0.28063241  0.15612648\n",
        "  0.27470356  0.17588933  0.70355731  0.12055336  0.44466403  0.31027668\n",
        "  0.55533597  0.09881423  0.33992095  0.78656126  0.94268775  0.56324111\n",
        "  0.43873518  0.40909091  0.35968379  0.48023715  0.83201581  0.62055336\n",
        "  0.55928854  0.84980237  0.76482213  0.49407115  0.62450593  0.47035573\n",
        "  0.38142292  0.22924901  0.50592885  0.10869565  0.87944664  0.66798419\n",
        "  0.45256917  0.18577075  0.18379447  0.61067194  0.49802372  0.5\n",
        "  0.53557312  0.39920949  0.71541502  0.58498024  0.51976285  0.36363636\n",
        "  0.76284585  0.45256917  0.32608696  0.34980237  0.97035573  0.62648221\n",
        "  0.69960474  0.36561265  0.66403162]"
       ]
      },
      {
       "output_type": "stream",
       "stream": "stdout",
       "text": [
        "\n",
        "[ 0.57219251  0.4171123   0.70053476  0.60962567  0.80748663  0.5828877\n",
        "  0.5828877   0.6684492   0.43315508  0.48663102  0.5026738   0.51336898\n",
        "  0.56149733  0.55080214  0.54545455  0.71657754  0.72727273  0.67379679\n",
        "  0.59893048  0.64171123  0.49197861  0.68983957  0.53475936  0.62032086\n",
        "  0.6684492   0.99465241  0.67379679  0.4171123   0.77005348  0.45454545\n",
        "  0.71657754  0.53475936  0.53475936  0.71657754  0.68983957  0.56149733\n",
        "  0.79144385  0.63636364  0.39572193  0.61497326  0.50802139  0.40641711\n",
        "  0.65775401  0.4973262   0.39572193  0.57754011  0.49197861  0.40641711\n",
        "  0.55614973  0.48663102  0.36363636  0.6631016   0.56684492  0.70588235\n",
        "  0.47593583  0.58823529  0.5026738   0.70588235  0.60962567  0.\n",
        "  0.49197861  0.35294118  0.29946524  0.42780749  0.62566845  0.64171123\n",
        "  0.18181818  0.29946524  0.53475936  0.20855615  0.45454545  0.70053476\n",
        "  0.47058824  0.6631016   0.5026738   0.29946524  0.18716578  0.46524064\n",
        "  0.31550802  0.55614973  0.34224599  0.44919786  0.61497326  0.51336898\n",
        "  0.65240642  0.47058824  0.50802139  0.67379679  0.58823529  0.5026738\n",
        "  0.51336898  0.56684492  0.48128342  0.45989305  0.49197861  0.44919786\n",
        "  0.73796791  0.3315508   0.39572193  0.45454545  0.18181818  0.28877005\n",
        "  0.58823529  0.27807487  0.3315508   0.48663102  0.40641711  0.49197861\n",
        "  0.31016043  0.71657754  0.2459893   0.43315508  0.8342246   0.60962567\n",
        "  0.60962567  0.44919786  0.3368984   0.44385027  0.3315508   0.34224599\n",
        "  0.56684492  1.          0.73262032  0.41176471  0.55080214  0.43315508\n",
        "  0.4973262   0.75935829  0.5026738   0.54545455  0.51336898  0.55614973\n",
        "  0.55614973  0.53475936  0.47593583  0.44919786  0.63101604  0.68449198\n",
        "  0.44385027  0.6684492   0.71657754  0.52941176  0.72727273  0.52941176\n",
        "  0.44919786  0.42245989  0.46524064  0.59893048  0.54545455  0.53475936\n",
        "  0.67379679  0.59893048  0.74331551  0.49197861  0.39572193  0.51336898\n",
        "  0.54545455  0.68449198  0.71657754  0.68449198  0.54545455  0.63101604\n",
        "  0.65240642  0.52941176  0.5026738   0.48128342  0.6631016   0.5026738\n",
        "  0.71122995  0.80213904  0.51336898  0.49197861  0.59893048  0.5828877\n",
        "  0.59893048  0.48128342  0.54010695  0.73796791]"
       ]
      },
      {
       "output_type": "stream",
       "stream": "stdout",
       "text": [
        "\n",
        "[ 0.25773196  0.03092784  0.41237113  0.31958763  0.53608247  0.2371134\n",
        "  0.20618557  0.36082474  0.17525773  0.27835052  0.3814433   0.31958763\n",
        "  0.27835052  0.04123711  0.07216495  0.34020619  0.48453608  0.48453608\n",
        "  0.30412371  0.2371134   0.27835052  0.41237113  0.30927835  0.37113402\n",
        "  0.48453608  0.74226804  0.28350515  0.32989691  0.45360825  0.27835052\n",
        "  0.61340206  0.43814433  0.34020619  0.45876289  0.43298969  0.51030928\n",
        "  0.25257732  0.3814433   0.25257732  0.13402062  0.28865979  0.42268041\n",
        "  0.22680412  0.3556701   0.32989691  0.42783505  0.27835052  0.27835052\n",
        "  0.42268041  0.35051546  0.09278351  0.34020619  0.17525773  0.33505155\n",
        "  0.29896907  0.51030928  0.29381443  0.31958763  0.31443299  0.\n",
        "  0.27835052  0.31958763  0.3814433   0.43298969  0.43298969  0.38659794\n",
        "  0.22680412  0.46391753  0.32989691  0.31958763  0.50515464  0.74226804\n",
        "  0.69072165  1.          0.53608247  0.27835052  0.27835052  0.3814433\n",
        "  0.21649485  0.63917526  0.43298969  0.42268041  0.69072165  0.61340206\n",
        "  0.3814433   0.3814433   0.62886598  0.79381443  0.56701031  0.67010309\n",
        "  0.40721649  0.58762887  0.52061856  0.3814433   0.3814433   0.43298969\n",
        "  0.56185567  0.27835052  0.40721649  0.3814433   0.3556701   0.40721649\n",
        "  0.53608247  0.45876289  0.51030928  0.58762887  0.43298969  0.61340206\n",
        "  0.43298969  0.48453608  0.45876289  0.53608247  0.48453608  0.53608247\n",
        "  0.61340206  0.56185567  0.5257732   0.61340206  0.27835052  0.43298969\n",
        "  0.48453608  0.92268041  0.81958763  0.56185567  0.53608247  0.53608247\n",
        "  0.56185567  0.92268041  0.71649485  0.58762887  0.3814433   0.48453608\n",
        "  0.69072165  0.56185567  0.3556701   0.40721649  0.53608247  0.74226804\n",
        "  0.45876289  0.69072165  0.53608247  0.48453608  0.66494845  0.48453608\n",
        "  0.40721649  0.53608247  0.48453608  0.56185567  0.56185567  0.56185567\n",
        "  0.69072165  0.58762887  0.76804124  0.40721649  0.48453608  0.58762887\n",
        "  0.45876289  0.84536082  0.74226804  0.61340206  0.53608247  0.48453608\n",
        "  0.58762887  0.40721649  0.58762887  0.61340206  0.63917526  0.45876289\n",
        "  0.71649485  0.74226804  0.43298969  0.45876289  0.48453608  0.51030928\n",
        "  0.63917526  0.48453608  0.48453608  0.71649485]\n",
        "[ 0.61956522  0.32608696  0.33695652  0.4673913   0.52173913  0.45652174\n",
        "  0.2826087   0.55434783  0.29347826  0.30434783  0.38043478  0.27173913\n",
        "  0.20652174  0.22826087  0.34782609  0.45652174  0.54347826  0.48913043\n",
        "  0.41304348  0.5         0.60869565  0.34782609  0.33695652  0.27173913\n",
        "  0.2826087   0.58695652  0.25        0.26086957  0.40217391  0.2826087\n",
        "  0.33695652  0.39130435  0.36956522  0.67391304  0.43478261  0.32608696\n",
        "  0.43478261  0.30434783  0.30434783  0.63043478  0.51086957  0.2173913\n",
        "  0.33695652  0.35869565  0.40217391  0.44565217  0.34782609  0.33695652\n",
        "  0.35869565  0.41304348  0.23913043  0.26086957  0.44565217  0.48913043\n",
        "  0.52173913  0.5         0.52173913  0.34782609  0.41304348  0.19565217\n",
        "  0.33695652  0.32608696  0.26086957  0.18478261  0.36956522  0.30434783\n",
        "  0.08695652  0.08695652  0.43478261  0.88043478  0.35869565  0.17391304\n",
        "  0.18478261  0.75        0.33695652  0.29347826  0.17391304  0.45652174\n",
        "  0.7173913   0.33695652  0.17391304  0.17391304  0.08695652  0.16304348\n",
        "  0.26086957  0.31521739  0.2173913   0.19565217  0.15217391  0.\n",
        "  0.11956522  0.17391304  0.10869565  0.19565217  0.30434783  1.\n",
        "  0.69565217  0.16304348  0.19565217  0.19565217  0.29347826  0.19565217\n",
        "  0.30434783  0.17391304  0.16304348  0.2173913   0.10869565  0.15217391\n",
        "  0.23913043  0.26086957  0.40217391  0.19565217  0.35869565  0.19565217\n",
        "  0.15217391  0.16304348  0.17391304  0.41304348  0.10869565  0.18478261\n",
        "  0.2826087   0.5326087   0.34782609  0.17391304  0.13043478  0.16304348\n",
        "  0.17391304  0.23913043  0.19565217  0.10869565  0.56521739  0.36956522\n",
        "  0.30434783  0.39130435  0.16304348  0.26086957  0.20652174  0.2826087\n",
        "  0.19565217  0.33695652  0.2826087   0.20652174  0.29347826  0.23913043\n",
        "  0.45652174  0.34782609  0.10869565  0.17391304  0.23913043  0.4673913\n",
        "  0.57608696  0.45652174  0.5         0.30434783  0.35869565  0.25\n",
        "  0.20652174  0.29347826  0.30434783  0.20652174  0.19565217  0.40217391\n",
        "  0.39130435  0.39130435  0.2173913   0.19565217  0.44565217  0.19565217\n",
        "  0.38043478  0.45652174  0.2826087   0.17391304  0.22826087  0.27173913\n",
        "  0.34782609  0.54347826  0.54347826  0.2826087 ]"
       ]
      },
      {
       "output_type": "stream",
       "stream": "stdout",
       "text": [
        "\n",
        "[ 0.62758621  0.57586207  0.62758621  0.98965517  0.62758621  0.78965517\n",
        "  0.52413793  0.55862069  0.62758621  0.68965517  0.67931034  0.42068966\n",
        "  0.55862069  0.73103448  0.8         0.64482759  0.62758621  0.67931034\n",
        "  0.8         0.59310345  0.69655172  0.49310345  0.56206897  0.51724138\n",
        "  0.53448276  0.56896552  0.64482759  0.48965517  0.67931034  0.57586207\n",
        "  0.69655172  0.64827586  0.49655172  0.67931034  0.47241379  0.59310345\n",
        "  0.55862069  0.50689655  0.48965517  0.69655172  0.74827586  0.50689655\n",
        "  0.78275862  0.57241379  0.69655172  0.64482759  0.78275862  0.73103448\n",
        "  0.61034483  0.65517241  0.6         0.50689655  1.          0.69655172\n",
        "  0.55862069  0.68275862  0.76551724  0.69655172  0.83448276  0.34482759\n",
        "  0.36896552  0.35862069  0.3862069   0.86896552  0.3137931   0.49655172\n",
        "  0.68965517  0.38965517  0.53448276  0.3         0.04137931  0.67931034\n",
        "  0.31034483  0.8         0.82758621  0.21724138  0.33448276  0.25517241\n",
        "  0.31724138  0.63793103  0.49655172  0.42068966  0.35172414  0.23103448\n",
        "  0.42068966  0.42068966  0.27586207  0.32413793  0.33448276  0.42068966\n",
        "  0.2137931   0.16206897  0.13793103  0.50689655  0.70344828  0.52413793\n",
        "  0.2137931   0.54137931  0.87586207  0.64482759  0.43103448  0.16206897\n",
        "  0.54482759  0.52413793  0.42068966  0.24137931  0.23103448  0.13793103\n",
        "  0.47586207  0.60689655  0.75862069  0.54137931  0.26551724  0.51724138\n",
        "  0.54482759  0.51034483  0.34482759  0.35172414  0.22413793  0.35172414\n",
        "  0.66206897  0.75862069  0.42068966  0.56551724  0.64827586  0.55862069\n",
        "  0.60689655  0.39655172  0.42758621  0.3862069   0.18275862  0.11034483\n",
        "  0.05862069  0.24827586  0.35172414  0.22068966  0.13793103  0.27931034\n",
        "  0.22068966  0.46206897  0.19310345  0.14482759  0.19655172  0.35172414\n",
        "  0.13793103  0.17931034  0.          0.24827586  0.32758621  0.14827586\n",
        "  0.14482759  0.17241379  0.42068966  0.28275862  0.17241379  0.26206897\n",
        "  0.28275862  0.31724138  0.62758621  0.55862069  0.45517241  0.29310345\n",
        "  0.23103448  0.14137931  0.12758621  0.10344828  0.24827586  0.17241379\n",
        "  0.19655172  0.34482759  0.09310345  0.14137931  0.24137931  0.24137931\n",
        "  0.28275862  0.21034483  0.23103448  0.36896552]\n",
        "[ 0.57383966  0.51054852  0.61181435  0.66455696  0.49578059  0.64345992\n",
        "  0.45991561  0.45780591  0.55696203  0.592827    0.62869198  0.44092827\n",
        "  0.51054852  0.70675105  0.69620253  0.54219409  0.5907173   0.64556962\n",
        "  0.75738397  0.56751055  0.59704641  0.43670886  0.53586498  0.42827004\n",
        "  0.47890295  0.49367089  0.54852321  0.39029536  0.55485232  0.41983122\n",
        "  0.61392405  0.60126582  0.49578059  0.50632911  0.46202532  0.55696203\n",
        "  0.49367089  0.44092827  0.48523207  0.56962025  0.62236287  0.49367089\n",
        "  0.67932489  0.48312236  0.56118143  0.48734177  0.59704641  0.64345992\n",
        "  0.5443038   0.67510549  0.61814346  0.55907173  0.71729958  0.51687764\n",
        "  0.54008439  0.51476793  0.56118143  0.60970464  0.70253165  0.04852321\n",
        "  0.15822785  0.2257384   0.30590717  0.58227848  0.29746835  0.48734177\n",
        "  0.59915612  0.35021097  0.20253165  0.19831224  0.14345992  0.53164557\n",
        "  0.3164557   0.53797468  0.37974684  0.25949367  0.35654008  0.20675105\n",
        "  0.3185654   0.46624473  0.40506329  0.46202532  0.26160338  0.26371308\n",
        "  0.39451477  0.33755274  0.28481013  0.26793249  0.28481013  0.26371308\n",
        "  0.24472574  0.19198312  0.23628692  0.40295359  0.40506329  0.407173\n",
        "  0.1371308   0.4556962   0.71940928  0.55907173  0.38607595  0.21518987\n",
        "  0.37341772  0.2742616   0.33333333  0.3164557   0.35654008  0.29957806\n",
        "  0.35864979  0.5443038   0.47257384  0.407173    0.35654008  0.35232068\n",
        "  0.41139241  0.38607595  0.26582278  0.36919831  0.19198312  0.2742616\n",
        "  0.51687764  1.          0.37763713  0.48734177  0.56751055  0.48734177\n",
        "  0.592827    0.40084388  0.44514768  0.29746835  0.19198312  0.18565401\n",
        "  0.15822785  0.1814346   0.05063291  0.06751055  0.02742616  0.05485232\n",
        "  0.02953586  0.05485232  0.03375527  0.03375527  0.03797468  0.09704641\n",
        "  0.092827    0.0443038   0.          0.06540084  0.08860759  0.22151899\n",
        "  0.25949367  0.21518987  0.19831224  0.10337553  0.05063291  0.06118143\n",
        "  0.10337553  0.05063291  0.20464135  0.16033755  0.12236287  0.0464135\n",
        "  0.05485232  0.07594937  0.07172996  0.02742616  0.12236287  0.06751055\n",
        "  0.10548523  0.13080169  0.03164557  0.03586498  0.07594937  0.05696203\n",
        "  0.08649789  0.07383966  0.07172996  0.08860759]"
       ]
      },
      {
       "output_type": "stream",
       "stream": "stdout",
       "text": [
        "\n",
        "[ 0.28301887  0.24528302  0.32075472  0.20754717  0.49056604  0.39622642\n",
        "  0.32075472  0.33962264  0.30188679  0.16981132  0.16981132  0.24528302\n",
        "  0.30188679  0.56603774  0.30188679  0.32075472  0.37735849  0.50943396\n",
        "  0.35849057  0.0754717   0.20754717  0.22641509  0.26415094  0.24528302\n",
        "  0.28301887  0.64150943  0.39622642  0.26415094  0.45283019  0.24528302\n",
        "  0.30188679  0.16981132  0.54716981  0.69811321  0.30188679  0.24528302\n",
        "  0.39622642  0.30188679  0.28301887  0.13207547  0.39622642  0.26415094\n",
        "  0.0754717   0.35849057  0.28301887  0.32075472  0.26415094  0.1509434\n",
        "  0.35849057  0.35849057  0.0754717   0.16981132  0.35849057  0.49056604\n",
        "  0.1509434   0.13207547  0.24528302  0.33962264  0.11320755  0.28301887\n",
        "  0.94339623  0.75471698  0.35849057  0.11320755  0.60377358  0.45283019\n",
        "  0.24528302  0.26415094  0.79245283  0.01886792  0.45283019  0.1509434\n",
        "  0.26415094  0.1509434   0.          0.39622642  0.20754717  0.56603774\n",
        "  0.41509434  0.56603774  0.32075472  0.24528302  0.50943396  0.90566038\n",
        "  0.16981132  0.32075472  0.56603774  0.50943396  0.66037736  0.54716981\n",
        "  0.73584906  0.69811321  0.8490566   0.22641509  0.0754717   0.35849057\n",
        "  0.01886792  0.30188679  0.20754717  0.60377358  0.24528302  0.30188679\n",
        "  0.39622642  0.45283019  0.35849057  1.          0.45283019  0.66037736\n",
        "  0.49056604  0.30188679  0.20754717  0.24528302  0.88679245  0.54716981\n",
        "  0.56603774  0.73584906  0.32075472  0.39622642  0.56603774  0.45283019\n",
        "  0.35849057  0.64150943  0.56603774  0.32075472  0.1509434   0.45283019\n",
        "  0.49056604  0.8490566   0.50943396  0.54716981  0.1509434   0.20754717\n",
        "  0.26415094  0.0754717   0.88679245  0.94339623  0.75471698  0.94339623\n",
        "  0.8490566   0.75471698  0.75471698  0.45283019  0.69811321  0.64150943\n",
        "  0.30188679  0.56603774  0.50943396  0.64150943  0.60377358  0.39622642\n",
        "  0.16981132  0.20754717  0.24528302  0.90566038  0.75471698  0.90566038\n",
        "  0.66037736  0.94339623  0.75471698  0.73584906  0.69811321  0.69811321\n",
        "  0.88679245  0.50943396  0.52830189  0.73584906  0.56603774  0.50943396\n",
        "  0.49056604  0.26415094  0.50943396  0.66037736  0.58490566  0.73584906\n",
        "  0.56603774  0.56603774  0.75471698  0.81132075]\n",
        "[ 0.59305994  0.27444795  0.75709779  0.55835962  0.44479495  0.49211356\n",
        "  0.49526814  0.26498423  0.49526814  0.45425868  0.6214511   0.3659306\n",
        "  0.44164038  0.75709779  0.8044164   0.33123028  0.49211356  0.41324921\n",
        "  0.45741325  0.39432177  0.53312303  0.49526814  0.40378549  0.33123028\n",
        "  0.39432177  0.47634069  0.32807571  0.29652997  0.42586751  0.49526814\n",
        "  0.6214511   0.48580442  0.49211356  0.29652997  0.35646688  0.45741325\n",
        "  0.29968454  0.32492114  0.30283912  0.52681388  0.60883281  0.33753943\n",
        "  0.40694006  0.39432177  0.51104101  0.26498423  0.5615142   0.54574132\n",
        "  0.6214511   0.52681388  0.78864353  0.59305994  0.46056782  0.40063091\n",
        "  0.38170347  0.64353312  0.51104101  0.39432177  0.51419558  0.00315457\n",
        "  0.          0.06624606  0.10094637  0.46056782  0.1955836   0.52681388\n",
        "  0.58990536  0.19873817  0.00315457  0.65930599  0.33123028  0.46056782\n",
        "  0.1955836   0.48895899  0.39116719  0.23343849  0.33123028  0.170347\n",
        "  0.74132492  0.48580442  0.32176656  0.42902208  0.31230284  0.38170347\n",
        "  0.61198738  0.33123028  0.36277603  0.29337539  0.29652997  0.30599369\n",
        "  0.38801262  0.38485804  0.38170347  0.49842271  0.29652997  0.90536278\n",
        "  0.36277603  0.42902208  0.48580442  0.75709779  0.31230284  0.29652997\n",
        "  0.28391167  0.31861199  0.33753943  0.31861199  0.38485804  0.38485804\n",
        "  0.52681388  0.65615142  1.          0.2555205   0.20189274  0.32492114\n",
        "  0.19873817  0.50473186  0.3533123   0.3785489   0.13249211  0.46056782\n",
        "  0.44794953  0.46056782  0.41009464  0.50473186  0.78864353  0.29652997\n",
        "  0.42902208  0.42586751  0.47003155  0.29652997  0.16719243  0.13249211\n",
        "  0.13249211  0.13564669  0.26498423  0.16719243  0.12302839  0.21766562\n",
        "  0.14826498  0.12618297  0.10725552  0.07255521  0.04416404  0.19242902\n",
        "  0.23028391  0.2807571   0.0851735   0.14195584  0.26498423  0.23028391\n",
        "  0.26498423  0.2681388   0.36277603  0.46056782  0.31230284  0.35962145\n",
        "  0.36277603  0.23028391  0.72239748  0.59305994  0.19873817  0.12302839\n",
        "  0.17350158  0.16719243  0.1955836   0.23343849  0.33123028  0.17665615\n",
        "  0.35646688  0.22082019  0.10094637  0.07255521  0.26182965  0.20504732\n",
        "  0.31545741  0.29652997  0.33123028  0.29652997]"
       ]
      },
      {
       "output_type": "stream",
       "stream": "stdout",
       "text": [
        "\n",
        "[ 0.37201365  0.26450512  0.37542662  0.55631399  0.25938567  0.46672355\n",
        "  0.3387372   0.32167235  0.33447099  0.50682594  0.38139932  0.31740614\n",
        "  0.36860068  0.35153584  0.53071672  0.51365188  0.41979522  0.45392491\n",
        "  0.6331058   0.32593857  0.37286689  0.27474403  0.21501706  0.22610922\n",
        "  0.19112628  0.19624573  0.3003413   0.2278157   0.27474403  0.29180887\n",
        "  0.37713311  0.47952218  0.21843003  0.35153584  0.24914676  0.32593857\n",
        "  0.28327645  0.25341297  0.20648464  0.32593857  0.41382253  0.2559727\n",
        "  0.35409556  0.26279863  0.32081911  0.33788396  0.30887372  0.4112628\n",
        "  0.41979522  0.65017065  0.50511945  0.36860068  0.49232082  0.42832765\n",
        "  0.38993174  0.42406143  0.43515358  0.40273038  0.47098976  0.05716724\n",
        "  0.16979522  0.38139932  0.21501706  0.27047782  0.14249147  0.28327645\n",
        "  0.34300341  0.29010239  0.1612628   0.13395904  0.15102389  0.17918089\n",
        "  0.20989761  0.17662116  0.16467577  0.21501706  0.28327645  0.1168942\n",
        "  0.18088737  0.11006826  0.10409556  0.22354949  0.07849829  0.3003413\n",
        "  0.15102389  0.11433447  0.09982935  0.11262799  0.12969283  0.03924915\n",
        "  0.09556314  0.19795222  0.15102389  0.07423208  0.16808874  0.11262799\n",
        "  0.10409556  0.13822526  0.27474403  0.08703072  0.17235495  0.09982935\n",
        "  0.12969283  0.0665529   0.14163823  0.12116041  0.18088737  0.17235495\n",
        "  0.12116041  0.1168942   0.13822526  0.06143345  0.21501706  0.15358362\n",
        "  0.13822526  0.05290102  0.05716724  0.0665529   0.18088737  0.\n",
        "  0.16808874  0.40273038  0.06825939  0.11262799  0.12969283  0.12627986\n",
        "  0.22696246  0.14675768  0.07167235  0.11262799  0.24061433  0.35153584\n",
        "  0.37713311  0.31740614  0.35580205  0.49658703  0.21928328  0.31740614\n",
        "  0.37713311  0.3105802   0.28327645  0.36860068  0.26194539  0.2662116\n",
        "  0.59129693  0.23208191  0.30887372  0.54351536  0.60921502  0.69283276\n",
        "  0.62457338  0.81228669  0.49658703  0.7883959   0.53924915  0.56484642\n",
        "  0.65955631  0.53071672  1.          0.89334471  0.54351536  0.39249147\n",
        "  0.3668942   0.34129693  0.70819113  0.4556314   0.80204778  0.7662116\n",
        "  0.62969283  0.61604096  0.36006826  0.7354948   0.71843003  0.54778157\n",
        "  0.51365188  0.76109215  0.68430034  0.67576792]\n",
        "[ 0.45528455  0.46341463  0.44715447  0.30894309  0.45528455  0.46341463\n",
        "  0.43902439  0.47154472  0.48780488  0.43089431  0.62601626  0.56097561\n",
        "  0.54471545  0.62601626  0.58536585  0.6504065   0.4796748   0.52845528\n",
        "  0.6097561   0.3902439   0.49593496  0.44715447  0.51219512  0.49593496\n",
        "  0.5203252   0.52845528  0.35772358  0.43902439  0.62601626  0.45528455\n",
        "  0.57723577  0.49593496  0.6097561   0.62601626  0.50406504  0.45528455\n",
        "  0.49593496  0.5203252   0.56910569  0.33333333  0.38211382  0.3495935\n",
        "  0.32520325  0.27642276  0.32520325  0.31707317  0.45528455  0.3495935\n",
        "  0.4796748   0.5203252   0.5203252   0.61788618  0.43089431  0.52845528\n",
        "  0.35772358  0.40650407  0.37398374  0.4796748   0.33333333  0.46341463\n",
        "  0.62601626  0.40650407  0.6097561   0.60162602  0.78861789  0.57723577\n",
        "  0.5203252   0.5203252   0.43902439  0.6504065   0.34634146  0.71544715\n",
        "  0.40650407  0.67479675  0.41463415  0.6097561   0.57723577  0.3902439\n",
        "  0.47154472  0.57723577  0.73170732  0.55284553  0.67479675  0.29268293\n",
        "  0.25203252  0.6097561   0.69105691  0.71544715  0.42276423  0.4796748\n",
        "  0.48780488  0.46341463  0.3902439   0.54471545  0.55284553  0.55284553\n",
        "  0.38211382  0.6097561   0.45528455  0.76422764  0.64227642  0.45528455\n",
        "  0.2601626   0.37398374  0.45528455  0.30894309  0.42276423  0.32520325\n",
        "  0.30894309  0.3902439   0.2195122   0.34146341  0.6097561   0.50406504\n",
        "  0.36585366  1.          0.38211382  0.47154472  0.17886179  0.36585366\n",
        "  0.2601626   0.36585366  0.35772358  0.20325203  0.2195122   0.30894309\n",
        "  0.17073171  0.39837398  0.33333333  0.25203252  0.22764228  0.21138211\n",
        "  0.14634146  0.24390244  0.2195122   0.20325203  0.2195122   0.27642276\n",
        "  0.26829268  0.33333333  0.23577236  0.17886179  0.33333333  0.3495935\n",
        "  0.13821138  0.09756098  0.08130081  0.04878049  0.05691057  0.07317073\n",
        "  0.08943089  0.          0.10569106  0.06504065  0.08130081  0.09756098\n",
        "  0.07317073  0.15447154  0.07317073  0.07317073  0.06504065  0.3902439\n",
        "  0.31707317  0.16260163  0.17886179  0.24390244  0.30081301  0.19512195\n",
        "  0.21138211  0.15447154  0.14634146  0.07317073  0.11382114  0.1300813\n",
        "  0.17886179  0.08943089  0.09756098  0.10569106]"
       ]
      },
      {
       "output_type": "stream",
       "stream": "stdout",
       "text": [
        "\n",
        "[ 0.97069597  0.78021978  0.6959707   0.7985348   0.60805861  0.57875458\n",
        "  0.84615385  0.84615385  0.57875458  0.83516484  0.6959707   0.56776557\n",
        "  0.5970696   0.53479853  0.63369963  0.58974359  0.50549451  0.47619048\n",
        "  0.56776557  0.76556777  0.89377289  0.82417582  1.          0.86446886\n",
        "  0.93406593  0.70695971  0.71428571  0.54945055  0.78021978  0.84981685\n",
        "  0.52747253  0.58974359  0.58608059  0.63369963  0.58608059  0.80586081\n",
        "  0.55311355  0.45421245  0.52014652  0.82783883  0.77289377  0.63369963\n",
        "  0.83882784  0.63369963  0.76190476  0.75457875  0.79487179  0.75457875\n",
        "  0.54212454  0.67032967  0.6007326   0.76923077  0.72893773  0.60805861\n",
        "  0.70695971  0.64468864  0.74725275  0.57509158  0.58608059  0.2014652\n",
        "  0.14652015  0.11721612  0.43589744  0.58608059  0.35164835  0.37728938\n",
        "  0.6996337   0.80952381  0.24175824  0.65934066  0.2014652   0.69230769\n",
        "  0.55311355  0.81684982  0.68131868  0.31868132  0.44322344  0.45787546\n",
        "  0.38095238  0.68131868  0.67765568  0.68498168  0.53113553  0.27106227\n",
        "  0.66300366  0.69230769  0.36263736  0.71062271  0.54212454  0.71062271\n",
        "  0.36630037  0.50549451  0.28937729  0.74358974  0.61904762  0.4981685\n",
        "  0.36263736  0.53846154  0.54945055  0.57142857  0.61904762  0.54945055\n",
        "  0.77289377  0.42857143  0.84249084  0.74358974  0.6959707   0.42124542\n",
        "  0.64102564  0.72893773  0.56410256  0.55311355  0.45054945  0.38095238\n",
        "  0.7032967   0.58608059  0.75457875  0.61904762  0.31135531  0.65201465\n",
        "  0.77655678  0.88644689  0.67765568  0.67032967  0.86813187  0.73626374\n",
        "  0.57509158  0.42857143  0.55311355  0.47619048  0.00732601  0.05494505\n",
        "  0.03296703  0.00732601  0.08791209  0.11355311  0.          0.15384615\n",
        "  0.2014652   0.32234432  0.38095238  0.43956044  0.28937729  0.28571429\n",
        "  0.26739927  0.15018315  0.02197802  0.21611722  0.12820513  0.02197802\n",
        "  0.01098901  0.07326007  0.02197802  0.08791209  0.1025641   0.07692308\n",
        "  0.13553114  0.16849817  0.25274725  0.18681319  0.11355311  0.2014652\n",
        "  0.30769231  0.17582418  0.15018315  0.17582418  0.10622711  0.17582418\n",
        "  0.19413919  0.23809524  0.20512821  0.13186813  0.16117216  0.17216117\n",
        "  0.10622711  0.10622711  0.12820513  0.12087912]\n",
        "[ 0.56134094  0.55064194  0.64693295  0.85734665  0.32596291  0.83594864\n",
        "  0.72182596  0.7253923   0.54707561  0.54707561  0.87874465  0.7146933\n",
        "  0.74322397  0.62196862  0.90513552  0.7360913   0.7146933   0.60770328\n",
        "  1.          0.40442225  0.35805991  0.35092725  0.53994294  0.5256776\n",
        "  0.40442225  0.39372325  0.65406562  0.71825963  0.45435093  0.53994294\n",
        "  0.71825963  0.88231098  0.50784593  0.68259629  0.58273894  0.45791726\n",
        "  0.42938659  0.58987161  0.52924394  0.34379458  0.36875892  0.53994294\n",
        "  0.58273894  0.28673324  0.43295292  0.57203994  0.56134094  0.5042796\n",
        "  0.55777461  0.70042796  0.62196862  0.70399429  0.65049929  0.78245364\n",
        "  0.55777461  0.60057061  0.4935806   0.70756063  0.71825963  0.17261056\n",
        "  0.28673324  0.12268188  0.2510699   0.10128388  0.05492154  0.2853067\n",
        "  0.15977175  0.16547789  0.33666191  0.31383738  0.42225392  0.09415121\n",
        "  0.13837375  0.5042796   0.43366619  0.10699001  0.08131241  0.15834522\n",
        "  0.33666191  0.13195435  0.          0.31098431  0.2510699   0.16904422\n",
        "  0.17261056  0.12268188  0.15477889  0.20256776  0.28673324  0.24750357\n",
        "  0.14407989  0.12268188  0.15477889  0.0085592   0.04778887  0.4700428\n",
        "  0.24750357  0.10699001  0.2724679   0.09129815  0.30813124  0.20256776\n",
        "  0.11412268  0.09771755  0.2810271   0.02639087  0.16547789  0.14978602\n",
        "  0.02425107  0.28673324  0.20256776  0.03352354  0.23466476  0.11126961\n",
        "  0.07631954  0.09201141  0.15477889  0.04778887  0.06704708  0.20399429\n",
        "  0.24750357  0.13338088  0.06205421  0.07275321  0.07275321  0.07132668\n",
        "  0.05278174  0.13409415  0.04564907  0.21540656  0.2510699   0.17974322\n",
        "  0.20114123  0.2296719   0.26533524  0.29743224  0.31526391  0.16904422\n",
        "  0.21540656  0.22253923  0.2296719   0.35805991  0.17261056  0.19400856\n",
        "  0.41155492  0.39372325  0.09771755  0.24750357  0.26533524  0.19400856\n",
        "  0.15834522  0.14407989  0.10485021  0.2831669   0.25820257  0.31883024\n",
        "  0.14407989  0.42938659  0.2724679   0.24393723  0.17261056  0.28673324\n",
        "  0.20827389  0.2831669   0.2403709   0.17261056  0.29743224  0.29029957\n",
        "  0.33666191  0.2510699   0.16547789  0.13694722  0.2724679   0.32952924\n",
        "  0.33666191  0.39728959  0.40085592  0.20114123]"
       ]
      },
      {
       "output_type": "stream",
       "stream": "stdout",
       "text": [
        "\n"
       ]
      }
     ],
     "prompt_number": 12
    },
    {
     "cell_type": "code",
     "collapsed": false,
     "input": [
      "import time, sys\n",
      "for i in range(14):\n",
      "\n",
      "    msg = OSC.OSCMessage()\n",
      "    msg.setAddress(\"s_new\")\n",
      "    msg.append(\"grain\")\n",
      "    msg.append(-1)\n",
      "    msg.append(0)\n",
      "    msg.append(1)\n",
      "    msg.append(\"amp\")\n",
      "    msg.append(1)\n",
      "    msg.append(\"freq\")\n",
      "    msg.append(10000*(data[:,i] - np.amin((data[:,i]))) / (np.amax((data[:,i]))-np.amin((data[:,i]))))\n",
      "    msg.append(\"sustain\")\n",
      "    msg.append(0.1)\n",
      "    msg.append(\"pan\")\n",
      "    msg.append(-1)\n",
      "    client.send(msg)\n",
      "        \n",
      "    time.sleep(0.1)"
     ],
     "language": "python",
     "metadata": {},
     "outputs": [],
     "prompt_number": 13
    },
    {
     "cell_type": "heading",
     "level": 3,
     "metadata": {},
     "source": [
      "How to put together all dimensions?"
     ]
    },
    {
     "cell_type": "code",
     "collapsed": false,
     "input": [],
     "language": "python",
     "metadata": {},
     "outputs": []
    },
    {
     "cell_type": "heading",
     "level": 1,
     "metadata": {},
     "source": [
      "Version information"
     ]
    },
    {
     "cell_type": "code",
     "collapsed": false,
     "input": [
      "%load_ext version_information\n",
      "%version_information numpy, scipy, matplotlib, sympy, pyosc, "
     ],
     "language": "python",
     "metadata": {},
     "outputs": [
      {
       "html": [
        "<table><tr><th>Software</th><th>Version</th></tr><tr><td>Python</td><td>2.7.6 |Anaconda 1.9.1 (x86_64)| (default, Jan 10 2014, 11:23:15) [GCC 4.0.1 (Apple Inc. build 5493)]</td></tr><tr><td>IPython</td><td>1.2.1</td></tr><tr><td>OS</td><td>posix [darwin]</td></tr><tr><td>numpy</td><td>1.8.1</td></tr><tr><td>scipy</td><td>0.13.3</td></tr><tr><td>matplotlib</td><td>1.3.1</td></tr><tr><td>sympy</td><td>0.7.5</td></tr><tr><td>pyosc</td><td>0.3.5b-5294</td></tr><tr><td colspan='2'>Tue Apr 15 20:04:22 2014 CEST</td></tr></table>"
       ],
       "json": [
        "{\"Software versions\": [{\"version\": \"2.7.6 |Anaconda 1.9.1 (x86_64)| (default, Jan 10 2014, 11:23:15) [GCC 4.0.1 (Apple Inc. build 5493)]\", \"module\": \"Python\"}, {\"version\": \"1.2.1\", \"module\": \"IPython\"}, {\"version\": \"posix [darwin]\", \"module\": \"OS\"}, {\"version\": \"1.8.1\", \"module\": \"numpy\"}, {\"version\": \"0.13.3\", \"module\": \"scipy\"}, {\"version\": \"1.3.1\", \"module\": \"matplotlib\"}, {\"version\": \"0.7.5\", \"module\": \"sympy\"}, {\"version\": \"0.3.5b-5294\", \"module\": \"pyosc\"}]}"
       ],
       "latex": [
        "\\begin{tabular}{|l|l|}\\hline\n",
        "{\\bf Software} & {\\bf Version} \\\\ \\hline\\hline\n",
        "Python & 2.7.6 |Anaconda 1.9.1 (x86\\letterunderscore{}64)| (default, Jan 10 2014, 11:23:15) [GCC 4.0.1 (Apple Inc. build 5493)] \\\\ \\hline\n",
        "IPython & 1.2.1 \\\\ \\hline\n",
        "OS & posix [darwin] \\\\ \\hline\n",
        "numpy & 1.8.1 \\\\ \\hline\n",
        "scipy & 0.13.3 \\\\ \\hline\n",
        "matplotlib & 1.3.1 \\\\ \\hline\n",
        "sympy & 0.7.5 \\\\ \\hline\n",
        "pyosc & 0.3.5b-5294 \\\\ \\hline\n",
        "\\hline \\multicolumn{2}{|l|}{Tue Apr 15 20:04:22 2014 CEST} \\\\ \\hline\n",
        "\\end{tabular}\n"
       ],
       "metadata": {},
       "output_type": "pyout",
       "prompt_number": 14,
       "text": [
        "Software versions\n",
        "Python 2.7.6 |Anaconda 1.9.1 (x86_64)| (default, Jan 10 2014, 11:23:15) [GCC 4.0.1 (Apple Inc. build 5493)]\n",
        "IPython 1.2.1\n",
        "OS posix [darwin]\n",
        "numpy 1.8.1\n",
        "scipy 0.13.3\n",
        "matplotlib 1.3.1\n",
        "sympy 0.7.5\n",
        "pyosc 0.3.5b-5294\n",
        "<tr><td colspan='2'>Tue Apr 15 20:04:22 2014 CEST</td></tr>"
       ]
      }
     ],
     "prompt_number": 14
    }
   ],
   "metadata": {}
  }
 ]
}