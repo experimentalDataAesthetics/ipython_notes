{
 "metadata": {
  "name": ""
 },
 "nbformat": 3,
 "nbformat_minor": 0,
 "worksheets": [
  {
   "cells": [
    {
     "cell_type": "heading",
     "level": 1,
     "metadata": {},
     "source": [
      "NumPy Basics. Working with multidimensional arrays"
     ]
    },
    {
     "cell_type": "heading",
     "level": 3,
     "metadata": {},
     "source": [
      "Basic tutorials:"
     ]
    },
    {
     "cell_type": "markdown",
     "metadata": {},
     "source": [
      "http://wiki.scipy.org/Tentative_NumPy_Tutorial\n",
      "\n",
      "http://www.python-kurs.eu/numpy.php\n",
      "\n",
      "http://nbviewer.ipython.org/github/jrjohansson/scientific-python-lectures/blob/master/Lecture-2-Numpy.ipynb"
     ]
    },
    {
     "cell_type": "code",
     "collapsed": false,
     "input": [
      "import numpy as np\n",
      "from StringIO import StringIO"
     ],
     "language": "python",
     "metadata": {},
     "outputs": [],
     "prompt_number": 1
    },
    {
     "cell_type": "heading",
     "level": 3,
     "metadata": {},
     "source": [
      "Loading data into numpy"
     ]
    },
    {
     "cell_type": "code",
     "collapsed": false,
     "input": [
      "!head wine_names.csv"
     ],
     "language": "python",
     "metadata": {},
     "outputs": [
      {
       "output_type": "stream",
       "stream": "stdout",
       "text": [
        "Class, a, b, c, d, e, f, g, h, i, j, k, l, m\r\n",
        "1,14.23,1.71,2.43,15.6,127,2.8,3.06,.28,2.29,5.64,1.04,3.92,1065\r\n",
        "1,13.2,1.78,2.14,11.2,100,2.65,2.76,.26,1.28,4.38,1.05,3.4,1050\r\n",
        "1,13.16,2.36,2.67,18.6,101,2.8,3.24,.3,2.81,5.68,1.03,3.17,1185\r\n",
        "1,14.37,1.95,2.5,16.8,113,3.85,3.49,.24,2.18,7.8,.86,3.45,1480\r\n",
        "1,13.24,2.59,2.87,21,118,2.8,2.69,.39,1.82,4.32,1.04,2.93,735\r\n",
        "1,14.2,1.76,2.45,15.2,112,3.27,3.39,.34,1.97,6.75,1.05,2.85,1450\r\n",
        "1,14.39,1.87,2.45,14.6,96,2.5,2.52,.3,1.98,5.25,1.02,3.58,1290\r\n",
        "1,14.06,2.15,2.61,17.6,121,2.6,2.51,.31,1.25,5.05,1.06,3.58,1295\r\n",
        "1,14.83,1.64,2.17,14,97,2.8,2.98,.29,1.98,5.2,1.08,2.85,1045\r\n"
       ]
      }
     ],
     "prompt_number": 79
    },
    {
     "cell_type": "markdown",
     "metadata": {},
     "source": [
      "http://stackoverflow.com/questions/12336234/read-csv-file-to-numpy-array-first-row-as-strings-rest-as-float"
     ]
    },
    {
     "cell_type": "code",
     "collapsed": false,
     "input": [
      "data = np.genfromtxt(\"wine_names.csv\", dtype=None, delimiter=',', skip_header=1) "
     ],
     "language": "python",
     "metadata": {},
     "outputs": [],
     "prompt_number": 71
    },
    {
     "cell_type": "code",
     "collapsed": false,
     "input": [
      "data = np.genfromtxt(\"wine_names.csv\", dtype=float, delimiter=',', skip_header=1) "
     ],
     "language": "python",
     "metadata": {},
     "outputs": [],
     "prompt_number": 2
    },
    {
     "cell_type": "code",
     "collapsed": false,
     "input": [
      "data"
     ],
     "language": "python",
     "metadata": {},
     "outputs": [
      {
       "metadata": {},
       "output_type": "pyout",
       "prompt_number": 5,
       "text": [
        "array([[  1.00000000e+00,   1.42300000e+01,   1.71000000e+00, ...,\n",
        "          1.04000000e+00,   3.92000000e+00,   1.06500000e+03],\n",
        "       [  1.00000000e+00,   1.32000000e+01,   1.78000000e+00, ...,\n",
        "          1.05000000e+00,   3.40000000e+00,   1.05000000e+03],\n",
        "       [  1.00000000e+00,   1.31600000e+01,   2.36000000e+00, ...,\n",
        "          1.03000000e+00,   3.17000000e+00,   1.18500000e+03],\n",
        "       ..., \n",
        "       [  3.00000000e+00,   1.32700000e+01,   4.28000000e+00, ...,\n",
        "          5.90000000e-01,   1.56000000e+00,   8.35000000e+02],\n",
        "       [  3.00000000e+00,   1.31700000e+01,   2.59000000e+00, ...,\n",
        "          6.00000000e-01,   1.62000000e+00,   8.40000000e+02],\n",
        "       [  3.00000000e+00,   1.41300000e+01,   4.10000000e+00, ...,\n",
        "          6.10000000e-01,   1.60000000e+00,   5.60000000e+02]])"
       ]
      }
     ],
     "prompt_number": 5
    },
    {
     "cell_type": "markdown",
     "metadata": {},
     "source": [
      "Data is from:\n",
      "\n",
      "https://archive.ics.uci.edu/ml/datasets/Wine"
     ]
    },
    {
     "cell_type": "heading",
     "level": 4,
     "metadata": {},
     "source": [
      "Numpy Basics"
     ]
    },
    {
     "cell_type": "markdown",
     "metadata": {},
     "source": [
      "ndarray.ndim > the number of axes (dimensions) of the array. In the Python world, the number of dimensions is referred to as rank. (Commentary: This is not = dimensions (columns)??\n",
      "\n",
      "ndarray.shape > the dimensions of the array. This is a tuple of integers indicating the size of the array in each dimension. For a matrix with n rows (Reihen) and m columns (Spalten), shape will be (n,m). The length of the shape tuple is therefore the rank, or number of dimensions, ndim. \n",
      "\n",
      "ndarray.size > the total number of elements of the array. This is equal to the product of the elements of shape. \n",
      "\n",
      "ndarray.dtype > an object describing the type of the elements in the array. One can create or specify dtype's using standard Python types. Additionally NumPy provides types of its own. numpy.int32, numpy.int16, and numpy.float64 are some examples. "
     ]
    },
    {
     "cell_type": "markdown",
     "metadata": {},
     "source": [
      "http://docs.scipy.org/doc/numpy/reference/generated/numpy.ndarray.html#numpy.ndarray"
     ]
    },
    {
     "cell_type": "code",
     "collapsed": false,
     "input": [
      "data.shape"
     ],
     "language": "python",
     "metadata": {},
     "outputs": [
      {
       "metadata": {},
       "output_type": "pyout",
       "prompt_number": 73,
       "text": [
        "(178, 14)"
       ]
      }
     ],
     "prompt_number": 73
    },
    {
     "cell_type": "markdown",
     "metadata": {},
     "source": [
      "177 rows and 14 columns, 177 datapoints with 14 dimensions"
     ]
    },
    {
     "cell_type": "code",
     "collapsed": false,
     "input": [
      "data.ndim"
     ],
     "language": "python",
     "metadata": {},
     "outputs": [
      {
       "metadata": {},
       "output_type": "pyout",
       "prompt_number": 74,
       "text": [
        "2"
       ]
      }
     ],
     "prompt_number": 74
    },
    {
     "cell_type": "heading",
     "level": 4,
     "metadata": {},
     "source": [
      "Print options"
     ]
    },
    {
     "cell_type": "code",
     "collapsed": false,
     "input": [
      "np.set_printoptions(threshold='nan')"
     ],
     "language": "python",
     "metadata": {},
     "outputs": [],
     "prompt_number": 128
    },
    {
     "cell_type": "markdown",
     "metadata": {},
     "source": [
      "Print everything \u2191"
     ]
    },
    {
     "cell_type": "code",
     "collapsed": false,
     "input": [
      "np.set_printoptions(edgeitems=3,infstr='inf',\n",
      "linewidth=75, nanstr='nan', precision=8,\n",
      "suppress=False, threshold=1000, formatter=None)"
     ],
     "language": "python",
     "metadata": {},
     "outputs": [],
     "prompt_number": 75
    },
    {
     "cell_type": "markdown",
     "metadata": {},
     "source": [
      "Default settings \u2191"
     ]
    },
    {
     "cell_type": "heading",
     "level": 4,
     "metadata": {},
     "source": [
      "Read-in a row or data point with index n"
     ]
    },
    {
     "cell_type": "code",
     "collapsed": false,
     "input": [
      "data[10]"
     ],
     "language": "python",
     "metadata": {},
     "outputs": [
      {
       "metadata": {},
       "output_type": "pyout",
       "prompt_number": 90,
       "text": [
        "array([  1.00000000e+00,   1.41000000e+01,   2.16000000e+00,\n",
        "         2.30000000e+00,   1.80000000e+01,   1.05000000e+02,\n",
        "         2.95000000e+00,   3.32000000e+00,   2.20000000e-01,\n",
        "         2.38000000e+00,   5.75000000e+00,   1.25000000e+00,\n",
        "         3.17000000e+00,   1.51000000e+03])"
       ]
      }
     ],
     "prompt_number": 90
    },
    {
     "cell_type": "heading",
     "level": 4,
     "metadata": {},
     "source": [
      "Read-in a column (dimension)"
     ]
    },
    {
     "cell_type": "code",
     "collapsed": false,
     "input": [
      "data[:,1]"
     ],
     "language": "python",
     "metadata": {},
     "outputs": [
      {
       "metadata": {},
       "output_type": "pyout",
       "prompt_number": 92,
       "text": [
        "array([ 14.23,  13.2 ,  13.16,  14.37,  13.24,  14.2 ,  14.39,  14.06,\n",
        "        14.83,  13.86,  14.1 ,  14.12,  13.75,  14.75,  14.38,  13.63,\n",
        "        14.3 ,  13.83,  14.19,  13.64,  14.06,  12.93,  13.71,  12.85,\n",
        "        13.5 ,  13.05,  13.39,  13.3 ,  13.87,  14.02,  13.73,  13.58,\n",
        "        13.68,  13.76,  13.51,  13.48,  13.28,  13.05,  13.07,  14.22,\n",
        "        13.56,  13.41,  13.88,  13.24,  13.05,  14.21,  14.38,  13.9 ,\n",
        "        14.1 ,  13.94,  13.05,  13.83,  13.82,  13.77,  13.74,  13.56,\n",
        "        14.22,  13.29,  13.72,  12.37,  12.33,  12.64,  13.67,  12.37,\n",
        "        12.17,  12.37,  13.11,  12.37,  13.34,  12.21,  12.29,  13.86,\n",
        "        13.49,  12.99,  11.96,  11.66,  13.03,  11.84,  12.33,  12.7 ,\n",
        "        12.  ,  12.72,  12.08,  13.05,  11.84,  12.67,  12.16,  11.65,\n",
        "        11.64,  12.08,  12.08,  12.  ,  12.69,  12.29,  11.62,  12.47,\n",
        "        11.81,  12.29,  12.37,  12.29,  12.08,  12.6 ,  12.34,  11.82,\n",
        "        12.51,  12.42,  12.25,  12.72,  12.22,  11.61,  11.46,  12.52,\n",
        "        11.76,  11.41,  12.08,  11.03,  11.82,  12.42,  12.77,  12.  ,\n",
        "        11.45,  11.56,  12.42,  13.05,  11.87,  12.07,  12.43,  11.79,\n",
        "        12.37,  12.04,  12.86,  12.88,  12.81,  12.7 ,  12.51,  12.6 ,\n",
        "        12.25,  12.53,  13.49,  12.84,  12.93,  13.36,  13.52,  13.62,\n",
        "        12.25,  13.16,  13.88,  12.87,  13.32,  13.08,  13.5 ,  12.79,\n",
        "        13.11,  13.23,  12.58,  13.17,  13.84,  12.45,  14.34,  13.48,\n",
        "        12.36,  13.69,  12.85,  12.96,  13.78,  13.73,  13.45,  12.82,\n",
        "        13.58,  13.4 ,  12.2 ,  12.77,  14.16,  13.71,  13.4 ,  13.27,\n",
        "        13.17,  14.13])"
       ]
      }
     ],
     "prompt_number": 92
    },
    {
     "cell_type": "heading",
     "level": 4,
     "metadata": {},
     "source": [
      "Read-in a value inside an array"
     ]
    },
    {
     "cell_type": "markdown",
     "metadata": {},
     "source": [
      "first value (index [0, n]) of second dimension [n, 1]  = second column"
     ]
    },
    {
     "cell_type": "code",
     "collapsed": false,
     "input": [
      "data[0,1] "
     ],
     "language": "python",
     "metadata": {},
     "outputs": [
      {
       "metadata": {},
       "output_type": "pyout",
       "prompt_number": 103,
       "text": [
        "14.23"
       ]
      }
     ],
     "prompt_number": 103
    },
    {
     "cell_type": "markdown",
     "metadata": {},
     "source": [
      "second value (index [1, n]) of second dimension [n, 1]  = second column"
     ]
    },
    {
     "cell_type": "code",
     "collapsed": false,
     "input": [
      "data[1,1] "
     ],
     "language": "python",
     "metadata": {},
     "outputs": [
      {
       "metadata": {},
       "output_type": "pyout",
       "prompt_number": 104,
       "text": [
        "13.199999999999999"
       ]
      }
     ],
     "prompt_number": 104
    },
    {
     "cell_type": "heading",
     "level": 3,
     "metadata": {},
     "source": [
      "With this \"Printing\" and accessing of values of one data point is manageable. The next step is to min max scale all values of one dimension to some parameters for the Synthdef (OSC-messages) such as frequency or something different. "
     ]
    },
    {
     "cell_type": "markdown",
     "metadata": {},
     "source": [
      "Before that some basics about the communication between ipython and SC3 via OSC."
     ]
    },
    {
     "cell_type": "heading",
     "level": 2,
     "metadata": {},
     "source": [
      "How to send OSC messages to SC3 with ipython?"
     ]
    },
    {
     "cell_type": "markdown",
     "metadata": {},
     "source": [
      "Download pyOSC here: https://trac.v2.nl/wiki/pyOSC And do sudo ipython setup.py install inside the pyOSC folder. \n",
      "\n",
      "On OSC more here: http://opensoundcontrol.org/introduction-osc \n",
      "\n",
      "Source: http://www.caseyanderson.com/teaching/ipython-to-supercollider-via-osc/"
     ]
    },
    {
     "cell_type": "heading",
     "level": 3,
     "metadata": {},
     "source": [
      "Load the code below in SC3 (Supercollider): http://supercollider.sourceforge.net/"
     ]
    },
    {
     "cell_type": "raw",
     "metadata": {},
     "source": [
      "(\n",
      "SynthDef(\"grain\", { |out, amp=0.1, freq=440, sustain=0.01, pan|\n",
      "\tvar snd = FSinOsc.ar(freq);\n",
      "\tvar amp2 = amp * AmpComp.ir(freq.max(50)) * 0.5;\n",
      "\tvar env = EnvGen.ar(Env.sine(sustain, amp2), doneAction: 2);\n",
      "\tOffsetOut.ar(out, Pan2.ar(snd * env, pan));\n",
      "}, \\ir ! 5).add;\n",
      "\n",
      ")"
     ]
    },
    {
     "cell_type": "code",
     "collapsed": false,
     "input": [
      "import OSC\n",
      "import time, random\n",
      "client = OSC.OSCClient()\n",
      "client.connect( ( '127.0.0.1', 57110 ) )"
     ],
     "language": "python",
     "metadata": {},
     "outputs": [],
     "prompt_number": 26
    },
    {
     "cell_type": "heading",
     "level": 3,
     "metadata": {},
     "source": [
      "OSC message to send: \n",
      "\n",
      "s.sendMsg(\"s_new\", \\grain, -1, 0, 1, \\freq, 200, \\sustain, 0.1, \\pan, -1.0); "
     ]
    },
    {
     "cell_type": "code",
     "collapsed": false,
     "input": [
      "msg = OSC.OSCMessage()\n",
      "msg.setAddress(\"s_new\")\n",
      "msg.append(\"grain\")\n",
      "msg.append(-1)\n",
      "msg.append(0)\n",
      "msg.append(1)\n",
      "msg.append(\"amp\")\n",
      "msg.append(1)\n",
      "msg.append(\"freq\")\n",
      "msg.append(4000)\n",
      "msg.append(\"sustain\")\n",
      "msg.append(0.1)\n",
      "msg.append(\"pan\")\n",
      "msg.append(0)\n",
      "client.send(msg)"
     ],
     "language": "python",
     "metadata": {},
     "outputs": [],
     "prompt_number": 66
    },
    {
     "cell_type": "code",
     "collapsed": false,
     "input": [
      "import time, sys\n",
      "for i in range(100):\n",
      "    \n",
      "    msg = OSC.OSCMessage()\n",
      "    msg.setAddress(\"s_new\")\n",
      "    msg.append(\"grain\")\n",
      "    msg.append(-1)\n",
      "    msg.append(0)\n",
      "    msg.append(1)\n",
      "    msg.append(\"amp\")\n",
      "    msg.append(1)\n",
      "    msg.append(\"freq\")\n",
      "    msg.append(440+(i*10))\n",
      "    msg.append(\"sustain\")\n",
      "    msg.append(0.15)\n",
      "    msg.append(\"pan\")\n",
      "    msg.append(1)\n",
      "    client.send(msg)\n",
      "    \n",
      "    msg = OSC.OSCMessage()\n",
      "    msg.setAddress(\"s_new\")\n",
      "    msg.append(\"grain\")\n",
      "    msg.append(-1)\n",
      "    msg.append(0)\n",
      "    msg.append(1)\n",
      "    msg.append(\"amp\")\n",
      "    msg.append(1)\n",
      "    msg.append(\"freq\")\n",
      "    msg.append(1440+(i*10))\n",
      "    msg.append(\"sustain\")\n",
      "    msg.append(0.15)\n",
      "    msg.append(\"pan\")\n",
      "    msg.append(-1)\n",
      "    client.send(msg)\n",
      "    \n",
      "    time.sleep(0.04)"
     ],
     "language": "python",
     "metadata": {},
     "outputs": [],
     "prompt_number": 7
    },
    {
     "cell_type": "heading",
     "level": 2,
     "metadata": {},
     "source": [
      "Loading the array"
     ]
    },
    {
     "cell_type": "code",
     "collapsed": false,
     "input": [
      "data[0,1]"
     ],
     "language": "python",
     "metadata": {},
     "outputs": [
      {
       "metadata": {},
       "output_type": "pyout",
       "prompt_number": 4,
       "text": [
        "14.23"
       ]
      }
     ],
     "prompt_number": 4
    },
    {
     "cell_type": "heading",
     "level": 3,
     "metadata": {},
     "source": [
      "Reading-out values from the array with a timed loop"
     ]
    },
    {
     "cell_type": "markdown",
     "metadata": {},
     "source": [
      "reading out one data point"
     ]
    },
    {
     "cell_type": "code",
     "collapsed": false,
     "input": [
      "data[1,:]"
     ],
     "language": "python",
     "metadata": {},
     "outputs": [
      {
       "metadata": {},
       "output_type": "pyout",
       "prompt_number": 194,
       "text": [
        "array([  1.00000000e+00,   1.32000000e+01,   1.78000000e+00,\n",
        "         2.14000000e+00,   1.12000000e+01,   1.00000000e+02,\n",
        "         2.65000000e+00,   2.76000000e+00,   2.60000000e-01,\n",
        "         1.28000000e+00,   4.38000000e+00,   1.05000000e+00,\n",
        "         3.40000000e+00,   1.05000000e+03])"
       ]
      }
     ],
     "prompt_number": 194
    },
    {
     "cell_type": "code",
     "collapsed": false,
     "input": [
      "import time, sys\n",
      "for i in range (14):\n",
      "    print data[1,i]\n",
      "    time.sleep(0.4)"
     ],
     "language": "python",
     "metadata": {},
     "outputs": [
      {
       "output_type": "stream",
       "stream": "stdout",
       "text": [
        "1.0\n",
        "13.2"
       ]
      },
      {
       "output_type": "stream",
       "stream": "stdout",
       "text": [
        "\n",
        "1.78"
       ]
      },
      {
       "output_type": "stream",
       "stream": "stdout",
       "text": [
        "\n",
        "2.14"
       ]
      },
      {
       "output_type": "stream",
       "stream": "stdout",
       "text": [
        "\n",
        "11.2"
       ]
      },
      {
       "output_type": "stream",
       "stream": "stdout",
       "text": [
        "\n",
        "100.0"
       ]
      },
      {
       "output_type": "stream",
       "stream": "stdout",
       "text": [
        "\n",
        "2.65"
       ]
      },
      {
       "output_type": "stream",
       "stream": "stdout",
       "text": [
        "\n",
        "2.76"
       ]
      },
      {
       "output_type": "stream",
       "stream": "stdout",
       "text": [
        "\n",
        "0.26"
       ]
      },
      {
       "output_type": "stream",
       "stream": "stdout",
       "text": [
        "\n",
        "1.28"
       ]
      },
      {
       "output_type": "stream",
       "stream": "stdout",
       "text": [
        "\n",
        "4.38"
       ]
      },
      {
       "output_type": "stream",
       "stream": "stdout",
       "text": [
        "\n",
        "1.05"
       ]
      },
      {
       "output_type": "stream",
       "stream": "stdout",
       "text": [
        "\n",
        "3.4"
       ]
      },
      {
       "output_type": "stream",
       "stream": "stdout",
       "text": [
        "\n",
        "1050.0"
       ]
      },
      {
       "output_type": "stream",
       "stream": "stdout",
       "text": [
        "\n"
       ]
      }
     ],
     "prompt_number": 130
    },
    {
     "cell_type": "heading",
     "level": 2,
     "metadata": {},
     "source": [
      "Min max scaling the data"
     ]
    },
    {
     "cell_type": "markdown",
     "metadata": {},
     "source": [
      "reading-out one dimension"
     ]
    },
    {
     "cell_type": "code",
     "collapsed": false,
     "input": [
      "data[:,1]"
     ],
     "language": "python",
     "metadata": {},
     "outputs": [
      {
       "metadata": {},
       "output_type": "pyout",
       "prompt_number": 153,
       "text": [
        "array([ 14.23,  13.2 ,  13.16,  14.37,  13.24,  14.2 ,  14.39,  14.06,\n",
        "        14.83,  13.86,  14.1 ,  14.12,  13.75,  14.75,  14.38,  13.63,\n",
        "        14.3 ,  13.83,  14.19,  13.64,  14.06,  12.93,  13.71,  12.85,\n",
        "        13.5 ,  13.05,  13.39,  13.3 ,  13.87,  14.02,  13.73,  13.58,\n",
        "        13.68,  13.76,  13.51,  13.48,  13.28,  13.05,  13.07,  14.22,\n",
        "        13.56,  13.41,  13.88,  13.24,  13.05,  14.21,  14.38,  13.9 ,\n",
        "        14.1 ,  13.94,  13.05,  13.83,  13.82,  13.77,  13.74,  13.56,\n",
        "        14.22,  13.29,  13.72,  12.37,  12.33,  12.64,  13.67,  12.37,\n",
        "        12.17,  12.37,  13.11,  12.37,  13.34,  12.21,  12.29,  13.86,\n",
        "        13.49,  12.99,  11.96,  11.66,  13.03,  11.84,  12.33,  12.7 ,\n",
        "        12.  ,  12.72,  12.08,  13.05,  11.84,  12.67,  12.16,  11.65,\n",
        "        11.64,  12.08,  12.08,  12.  ,  12.69,  12.29,  11.62,  12.47,\n",
        "        11.81,  12.29,  12.37,  12.29,  12.08,  12.6 ,  12.34,  11.82,\n",
        "        12.51,  12.42,  12.25,  12.72,  12.22,  11.61,  11.46,  12.52,\n",
        "        11.76,  11.41,  12.08,  11.03,  11.82,  12.42,  12.77,  12.  ,\n",
        "        11.45,  11.56,  12.42,  13.05,  11.87,  12.07,  12.43,  11.79,\n",
        "        12.37,  12.04,  12.86,  12.88,  12.81,  12.7 ,  12.51,  12.6 ,\n",
        "        12.25,  12.53,  13.49,  12.84,  12.93,  13.36,  13.52,  13.62,\n",
        "        12.25,  13.16,  13.88,  12.87,  13.32,  13.08,  13.5 ,  12.79,\n",
        "        13.11,  13.23,  12.58,  13.17,  13.84,  12.45,  14.34,  13.48,\n",
        "        12.36,  13.69,  12.85,  12.96,  13.78,  13.73,  13.45,  12.82,\n",
        "        13.58,  13.4 ,  12.2 ,  12.77,  14.16,  13.71,  13.4 ,  13.27,\n",
        "        13.17,  14.13])"
       ]
      }
     ],
     "prompt_number": 153
    },
    {
     "cell_type": "heading",
     "level": 4,
     "metadata": {},
     "source": [
      "Maxiumum and minimum within one dimension (column)"
     ]
    },
    {
     "cell_type": "code",
     "collapsed": false,
     "input": [
      "np.amax((data[:,1]))"
     ],
     "language": "python",
     "metadata": {},
     "outputs": [
      {
       "metadata": {},
       "output_type": "pyout",
       "prompt_number": 154,
       "text": [
        "14.83"
       ]
      }
     ],
     "prompt_number": 154
    },
    {
     "cell_type": "code",
     "collapsed": false,
     "input": [
      "np.amin((data[:,1]))"
     ],
     "language": "python",
     "metadata": {},
     "outputs": [
      {
       "metadata": {},
       "output_type": "pyout",
       "prompt_number": 156,
       "text": [
        "11.029999999999999"
       ]
      }
     ],
     "prompt_number": 156
    },
    {
     "cell_type": "code",
     "collapsed": false,
     "input": [
      "np.amax((data[:,1]))-np.amin((data[:,1]))"
     ],
     "language": "python",
     "metadata": {},
     "outputs": [
      {
       "metadata": {},
       "output_type": "pyout",
       "prompt_number": 178,
       "text": [
        "3.8000000000000007"
       ]
      }
     ],
     "prompt_number": 178
    },
    {
     "cell_type": "heading",
     "level": 4,
     "metadata": {},
     "source": [
      "reading-out all values of one dimension scaled between 0 and 1"
     ]
    },
    {
     "cell_type": "code",
     "collapsed": false,
     "input": [
      "dimension = 12\n",
      "datanew = (data[:,dimension] - np.amin((data[:,dimension]))) / (np.amax((data[:,dimension]))-np.amin((data[:,dimension])))"
     ],
     "language": "python",
     "metadata": {},
     "outputs": [],
     "prompt_number": 14
    },
    {
     "cell_type": "code",
     "collapsed": false,
     "input": [
      "datanew"
     ],
     "language": "python",
     "metadata": {},
     "outputs": [
      {
       "metadata": {},
       "output_type": "pyout",
       "prompt_number": 15,
       "text": [
        "array([ 0.97069597,  0.78021978,  0.6959707 ,  0.7985348 ,  0.60805861,\n",
        "        0.57875458,  0.84615385,  0.84615385,  0.57875458,  0.83516484,\n",
        "        0.6959707 ,  0.56776557,  0.5970696 ,  0.53479853,  0.63369963,\n",
        "        0.58974359,  0.50549451,  0.47619048,  0.56776557,  0.76556777,\n",
        "        0.89377289,  0.82417582,  1.        ,  0.86446886,  0.93406593,\n",
        "        0.70695971,  0.71428571,  0.54945055,  0.78021978,  0.84981685,\n",
        "        0.52747253,  0.58974359,  0.58608059,  0.63369963,  0.58608059,\n",
        "        0.80586081,  0.55311355,  0.45421245,  0.52014652,  0.82783883,\n",
        "        0.77289377,  0.63369963,  0.83882784,  0.63369963,  0.76190476,\n",
        "        0.75457875,  0.79487179,  0.75457875,  0.54212454,  0.67032967,\n",
        "        0.6007326 ,  0.76923077,  0.72893773,  0.60805861,  0.70695971,\n",
        "        0.64468864,  0.74725275,  0.57509158,  0.58608059,  0.2014652 ,\n",
        "        0.14652015,  0.11721612,  0.43589744,  0.58608059,  0.35164835,\n",
        "        0.37728938,  0.6996337 ,  0.80952381,  0.24175824,  0.65934066,\n",
        "        0.2014652 ,  0.69230769,  0.55311355,  0.81684982,  0.68131868,\n",
        "        0.31868132,  0.44322344,  0.45787546,  0.38095238,  0.68131868,\n",
        "        0.67765568,  0.68498168,  0.53113553,  0.27106227,  0.66300366,\n",
        "        0.69230769,  0.36263736,  0.71062271,  0.54212454,  0.71062271,\n",
        "        0.36630037,  0.50549451,  0.28937729,  0.74358974,  0.61904762,\n",
        "        0.4981685 ,  0.36263736,  0.53846154,  0.54945055,  0.57142857,\n",
        "        0.61904762,  0.54945055,  0.77289377,  0.42857143,  0.84249084,\n",
        "        0.74358974,  0.6959707 ,  0.42124542,  0.64102564,  0.72893773,\n",
        "        0.56410256,  0.55311355,  0.45054945,  0.38095238,  0.7032967 ,\n",
        "        0.58608059,  0.75457875,  0.61904762,  0.31135531,  0.65201465,\n",
        "        0.77655678,  0.88644689,  0.67765568,  0.67032967,  0.86813187,\n",
        "        0.73626374,  0.57509158,  0.42857143,  0.55311355,  0.47619048,\n",
        "        0.00732601,  0.05494505,  0.03296703,  0.00732601,  0.08791209,\n",
        "        0.11355311,  0.        ,  0.15384615,  0.2014652 ,  0.32234432,\n",
        "        0.38095238,  0.43956044,  0.28937729,  0.28571429,  0.26739927,\n",
        "        0.15018315,  0.02197802,  0.21611722,  0.12820513,  0.02197802,\n",
        "        0.01098901,  0.07326007,  0.02197802,  0.08791209,  0.1025641 ,\n",
        "        0.07692308,  0.13553114,  0.16849817,  0.25274725,  0.18681319,\n",
        "        0.11355311,  0.2014652 ,  0.30769231,  0.17582418,  0.15018315,\n",
        "        0.17582418,  0.10622711,  0.17582418,  0.19413919,  0.23809524,\n",
        "        0.20512821,  0.13186813,  0.16117216,  0.17216117,  0.10622711,\n",
        "        0.10622711,  0.12820513,  0.12087912])"
       ]
      }
     ],
     "prompt_number": 15
    },
    {
     "cell_type": "heading",
     "level": 3,
     "metadata": {},
     "source": [
      "How to put together all dimensions?"
     ]
    },
    {
     "cell_type": "code",
     "collapsed": false,
     "input": [
      "data0 = (data[:,0] - np.amin((data[:,0]))) / (np.amax((data[:,0]))-np.amin((data[:,0])))\n",
      "data1 = (data[:,1] - np.amin((data[:,1]))) / (np.amax((data[:,1]))-np.amin((data[:,1])))\n",
      "data2 = (data[:,2] - np.amin((data[:,2]))) / (np.amax((data[:,2]))-np.amin((data[:,2])))"
     ],
     "language": "python",
     "metadata": {},
     "outputs": [],
     "prompt_number": 6
    },
    {
     "cell_type": "code",
     "collapsed": false,
     "input": [
      "data_all = np.column_stack([data0, data1, data2])"
     ],
     "language": "python",
     "metadata": {},
     "outputs": [],
     "prompt_number": 17
    },
    {
     "cell_type": "markdown",
     "metadata": {},
     "source": [
      "http://docs.scipy.org/doc/numpy/reference/generated/numpy.column_stack.html\n",
      "\n",
      "?"
     ]
    },
    {
     "cell_type": "markdown",
     "metadata": {},
     "source": [
      "Use axis!\n",
      "http://stackoverflow.com/questions/23120621/less-code-lines-for-scaling-and-stacking-columns-in-numpy"
     ]
    },
    {
     "cell_type": "code",
     "collapsed": false,
     "input": [
      "data_all = (data - np.min(data, axis=0))/(np.max(data, axis=0) - np.min(data, axis=0))"
     ],
     "language": "python",
     "metadata": {},
     "outputs": [],
     "prompt_number": 18
    },
    {
     "cell_type": "markdown",
     "metadata": {},
     "source": [
      "or"
     ]
    },
    {
     "cell_type": "code",
     "collapsed": false,
     "input": [
      "mn, mx = data.min(0), data.max(0)\n",
      "data_all = (data - mn)/(mx-mn)"
     ],
     "language": "python",
     "metadata": {},
     "outputs": [],
     "prompt_number": 15
    },
    {
     "cell_type": "code",
     "collapsed": false,
     "input": [
      "data_all"
     ],
     "language": "python",
     "metadata": {},
     "outputs": [
      {
       "metadata": {},
       "output_type": "pyout",
       "prompt_number": 16,
       "text": [
        "array([[ 0.        ,  0.84210526,  0.1916996 , ...,  0.45528455,\n",
        "         0.97069597,  0.56134094],\n",
        "       [ 0.        ,  0.57105263,  0.2055336 , ...,  0.46341463,\n",
        "         0.78021978,  0.55064194],\n",
        "       [ 0.        ,  0.56052632,  0.3201581 , ...,  0.44715447,\n",
        "         0.6959707 ,  0.64693295],\n",
        "       ..., \n",
        "       [ 1.        ,  0.58947368,  0.69960474, ...,  0.08943089,\n",
        "         0.10622711,  0.39728959],\n",
        "       [ 1.        ,  0.56315789,  0.36561265, ...,  0.09756098,\n",
        "         0.12820513,  0.40085592],\n",
        "       [ 1.        ,  0.81578947,  0.66403162, ...,  0.10569106,\n",
        "         0.12087912,  0.20114123]])"
       ]
      }
     ],
     "prompt_number": 16
    },
    {
     "cell_type": "code",
     "collapsed": false,
     "input": [
      "data_all.shape"
     ],
     "language": "python",
     "metadata": {},
     "outputs": [
      {
       "metadata": {},
       "output_type": "pyout",
       "prompt_number": 13,
       "text": [
        "(178, 14)"
       ]
      }
     ],
     "prompt_number": 13
    },
    {
     "cell_type": "code",
     "collapsed": false,
     "input": [
      "data_all[1,:] "
     ],
     "language": "python",
     "metadata": {},
     "outputs": [
      {
       "metadata": {},
       "output_type": "pyout",
       "prompt_number": 19,
       "text": [
        "array([ 0.        ,  0.57105263,  0.2055336 ,  0.4171123 ,  0.03092784,\n",
        "        0.32608696,  0.57586207,  0.51054852,  0.24528302,  0.27444795,\n",
        "        0.26450512,  0.46341463,  0.78021978,  0.55064194])"
       ]
      }
     ],
     "prompt_number": 19
    },
    {
     "cell_type": "code",
     "collapsed": false,
     "input": [
      "data[1,:]"
     ],
     "language": "python",
     "metadata": {},
     "outputs": [
      {
       "metadata": {},
       "output_type": "pyout",
       "prompt_number": 20,
       "text": [
        "array([  1.00000000e+00,   1.32000000e+01,   1.78000000e+00,\n",
        "         2.14000000e+00,   1.12000000e+01,   1.00000000e+02,\n",
        "         2.65000000e+00,   2.76000000e+00,   2.60000000e-01,\n",
        "         1.28000000e+00,   4.38000000e+00,   1.05000000e+00,\n",
        "         3.40000000e+00,   1.05000000e+03])"
       ]
      }
     ],
     "prompt_number": 20
    },
    {
     "cell_type": "code",
     "collapsed": false,
     "input": [
      "import time, sys\n",
      "for i in range (14):\n",
      "    print data[1,i]\n",
      "    time.sleep(0.4)"
     ],
     "language": "python",
     "metadata": {},
     "outputs": [
      {
       "output_type": "stream",
       "stream": "stdout",
       "text": [
        "1.0\n",
        "13.2"
       ]
      },
      {
       "output_type": "stream",
       "stream": "stdout",
       "text": [
        "\n",
        "1.78"
       ]
      },
      {
       "output_type": "stream",
       "stream": "stdout",
       "text": [
        "\n",
        "2.14"
       ]
      },
      {
       "output_type": "stream",
       "stream": "stdout",
       "text": [
        "\n",
        "11.2"
       ]
      },
      {
       "output_type": "stream",
       "stream": "stdout",
       "text": [
        "\n",
        "100.0"
       ]
      },
      {
       "output_type": "stream",
       "stream": "stdout",
       "text": [
        "\n",
        "2.65"
       ]
      },
      {
       "output_type": "stream",
       "stream": "stdout",
       "text": [
        "\n",
        "2.76"
       ]
      },
      {
       "output_type": "stream",
       "stream": "stdout",
       "text": [
        "\n",
        "0.26"
       ]
      },
      {
       "output_type": "stream",
       "stream": "stdout",
       "text": [
        "\n",
        "1.28"
       ]
      },
      {
       "output_type": "stream",
       "stream": "stdout",
       "text": [
        "\n",
        "4.38"
       ]
      },
      {
       "output_type": "stream",
       "stream": "stdout",
       "text": [
        "\n",
        "1.05"
       ]
      },
      {
       "output_type": "stream",
       "stream": "stdout",
       "text": [
        "\n",
        "3.4"
       ]
      },
      {
       "output_type": "stream",
       "stream": "stdout",
       "text": [
        "\n",
        "1050.0"
       ]
      },
      {
       "output_type": "stream",
       "stream": "stdout",
       "text": [
        "\n"
       ]
      }
     ],
     "prompt_number": 22
    },
    {
     "cell_type": "code",
     "collapsed": false,
     "input": [
      "import time, sys\n",
      "for i in range (14):\n",
      "    print data_all[1,i]\n",
      "    time.sleep(0.4)"
     ],
     "language": "python",
     "metadata": {},
     "outputs": [
      {
       "output_type": "stream",
       "stream": "stdout",
       "text": [
        "0.0\n",
        "0.571052631579"
       ]
      },
      {
       "output_type": "stream",
       "stream": "stdout",
       "text": [
        "\n",
        "0.205533596838"
       ]
      },
      {
       "output_type": "stream",
       "stream": "stdout",
       "text": [
        "\n",
        "0.417112299465"
       ]
      },
      {
       "output_type": "stream",
       "stream": "stdout",
       "text": [
        "\n",
        "0.0309278350515"
       ]
      },
      {
       "output_type": "stream",
       "stream": "stdout",
       "text": [
        "\n",
        "0.326086956522"
       ]
      },
      {
       "output_type": "stream",
       "stream": "stdout",
       "text": [
        "\n",
        "0.575862068966"
       ]
      },
      {
       "output_type": "stream",
       "stream": "stdout",
       "text": [
        "\n",
        "0.510548523207"
       ]
      },
      {
       "output_type": "stream",
       "stream": "stdout",
       "text": [
        "\n",
        "0.245283018868"
       ]
      },
      {
       "output_type": "stream",
       "stream": "stdout",
       "text": [
        "\n",
        "0.274447949527"
       ]
      },
      {
       "output_type": "stream",
       "stream": "stdout",
       "text": [
        "\n",
        "0.264505119454"
       ]
      },
      {
       "output_type": "stream",
       "stream": "stdout",
       "text": [
        "\n",
        "0.463414634146"
       ]
      },
      {
       "output_type": "stream",
       "stream": "stdout",
       "text": [
        "\n",
        "0.78021978022"
       ]
      },
      {
       "output_type": "stream",
       "stream": "stdout",
       "text": [
        "\n",
        "0.550641940086"
       ]
      },
      {
       "output_type": "stream",
       "stream": "stdout",
       "text": [
        "\n"
       ]
      }
     ],
     "prompt_number": 24
    },
    {
     "cell_type": "code",
     "collapsed": false,
     "input": [
      "import time, sys\n",
      "for i in range(14):\n",
      "\n",
      "    msg = OSC.OSCMessage()\n",
      "    msg.setAddress(\"s_new\")\n",
      "    msg.append(\"grain\")\n",
      "    msg.append(-1)\n",
      "    msg.append(0)\n",
      "    msg.append(1)\n",
      "    msg.append(\"amp\")\n",
      "    msg.append(1)\n",
      "    msg.append(\"freq\")\n",
      "    msg.append(200+(1500*data_all[32,i]))     \n",
      "    msg.append(\"sustain\")\n",
      "    msg.append(0.025) #dasdas\n",
      "    msg.append(\"pan\")\n",
      "    msg.append(-1)\n",
      "    client.send(msg)\n",
      "    time.sleep(0.004)"
     ],
     "language": "python",
     "metadata": {},
     "outputs": [],
     "prompt_number": 130
    },
    {
     "cell_type": "heading",
     "level": 1,
     "metadata": {},
     "source": [
      "Version information"
     ]
    },
    {
     "cell_type": "code",
     "collapsed": false,
     "input": [
      "%load_ext version_information\n",
      "%version_information numpy, scipy, matplotlib, sympy, pyosc"
     ],
     "language": "python",
     "metadata": {},
     "outputs": [
      {
       "output_type": "stream",
       "stream": "stdout",
       "text": [
        "The version_information extension is already loaded. To reload it, use:\n",
        "  %reload_ext version_information\n"
       ]
      },
      {
       "html": [
        "<table><tr><th>Software</th><th>Version</th></tr><tr><td>Python</td><td>2.7.6 |Anaconda 1.9.1 (x86_64)| (default, Jan 10 2014, 11:23:15) [GCC 4.0.1 (Apple Inc. build 5493)]</td></tr><tr><td>IPython</td><td>1.2.1</td></tr><tr><td>OS</td><td>posix [darwin]</td></tr><tr><td>numpy</td><td>1.8.1</td></tr><tr><td>scipy</td><td>0.13.3</td></tr><tr><td>matplotlib</td><td>1.3.1</td></tr><tr><td>sympy</td><td>0.7.5</td></tr><tr><td>pyosc</td><td>0.3.5b-5294</td></tr><tr><td colspan='2'>Thu Apr 17 09:54:28 2014 CEST</td></tr></table>"
       ],
       "json": [
        "{\"Software versions\": [{\"version\": \"2.7.6 |Anaconda 1.9.1 (x86_64)| (default, Jan 10 2014, 11:23:15) [GCC 4.0.1 (Apple Inc. build 5493)]\", \"module\": \"Python\"}, {\"version\": \"1.2.1\", \"module\": \"IPython\"}, {\"version\": \"posix [darwin]\", \"module\": \"OS\"}, {\"version\": \"1.8.1\", \"module\": \"numpy\"}, {\"version\": \"0.13.3\", \"module\": \"scipy\"}, {\"version\": \"1.3.1\", \"module\": \"matplotlib\"}, {\"version\": \"0.7.5\", \"module\": \"sympy\"}, {\"version\": \"0.3.5b-5294\", \"module\": \"pyosc\"}]}"
       ],
       "latex": [
        "\\begin{tabular}{|l|l|}\\hline\n",
        "{\\bf Software} & {\\bf Version} \\\\ \\hline\\hline\n",
        "Python & 2.7.6 |Anaconda 1.9.1 (x86\\letterunderscore{}64)| (default, Jan 10 2014, 11:23:15) [GCC 4.0.1 (Apple Inc. build 5493)] \\\\ \\hline\n",
        "IPython & 1.2.1 \\\\ \\hline\n",
        "OS & posix [darwin] \\\\ \\hline\n",
        "numpy & 1.8.1 \\\\ \\hline\n",
        "scipy & 0.13.3 \\\\ \\hline\n",
        "matplotlib & 1.3.1 \\\\ \\hline\n",
        "sympy & 0.7.5 \\\\ \\hline\n",
        "pyosc & 0.3.5b-5294 \\\\ \\hline\n",
        "\\hline \\multicolumn{2}{|l|}{Thu Apr 17 09:54:28 2014 CEST} \\\\ \\hline\n",
        "\\end{tabular}\n"
       ],
       "metadata": {},
       "output_type": "pyout",
       "prompt_number": 74,
       "text": [
        "Software versions\n",
        "Python 2.7.6 |Anaconda 1.9.1 (x86_64)| (default, Jan 10 2014, 11:23:15) [GCC 4.0.1 (Apple Inc. build 5493)]\n",
        "IPython 1.2.1\n",
        "OS posix [darwin]\n",
        "numpy 1.8.1\n",
        "scipy 0.13.3\n",
        "matplotlib 1.3.1\n",
        "sympy 0.7.5\n",
        "pyosc 0.3.5b-5294\n",
        "<tr><td colspan='2'>Thu Apr 17 09:54:28 2014 CEST</td></tr>"
       ]
      }
     ],
     "prompt_number": 74
    },
    {
     "cell_type": "code",
     "collapsed": false,
     "input": [],
     "language": "python",
     "metadata": {},
     "outputs": []
    }
   ],
   "metadata": {}
  }
 ]
}