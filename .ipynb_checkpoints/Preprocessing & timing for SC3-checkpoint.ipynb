{
 "metadata": {
  "name": ""
 },
 "nbformat": 3,
 "nbformat_minor": 0,
 "worksheets": [
  {
   "cells": [
    {
     "cell_type": "heading",
     "level": 1,
     "metadata": {},
     "source": [
      "NumPy Basics. Working with multidimensional arrays"
     ]
    },
    {
     "cell_type": "heading",
     "level": 3,
     "metadata": {},
     "source": [
      "Basic tutorials:"
     ]
    },
    {
     "cell_type": "markdown",
     "metadata": {},
     "source": [
      "http://wiki.scipy.org/Tentative_NumPy_Tutorial\n",
      "\n",
      "http://www.python-kurs.eu/numpy.php\n",
      "\n",
      "http://nbviewer.ipython.org/github/jrjohansson/scientific-python-lectures/blob/master/Lecture-2-Numpy.ipynb"
     ]
    },
    {
     "cell_type": "code",
     "collapsed": false,
     "input": [
      "import numpy as np\n",
      "from StringIO import StringIO"
     ],
     "language": "python",
     "metadata": {},
     "outputs": [],
     "prompt_number": 70
    },
    {
     "cell_type": "heading",
     "level": 3,
     "metadata": {},
     "source": [
      "Loading data into numpy"
     ]
    },
    {
     "cell_type": "code",
     "collapsed": false,
     "input": [
      "!head wine_names.csv"
     ],
     "language": "python",
     "metadata": {},
     "outputs": [
      {
       "output_type": "stream",
       "stream": "stdout",
       "text": [
        "Class, a, b, c, d, e, f, g, h, i, j, k, l, m\r\n",
        "1,14.23,1.71,2.43,15.6,127,2.8,3.06,.28,2.29,5.64,1.04,3.92,1065\r\n",
        "1,13.2,1.78,2.14,11.2,100,2.65,2.76,.26,1.28,4.38,1.05,3.4,1050\r\n",
        "1,13.16,2.36,2.67,18.6,101,2.8,3.24,.3,2.81,5.68,1.03,3.17,1185\r\n",
        "1,14.37,1.95,2.5,16.8,113,3.85,3.49,.24,2.18,7.8,.86,3.45,1480\r\n",
        "1,13.24,2.59,2.87,21,118,2.8,2.69,.39,1.82,4.32,1.04,2.93,735\r\n",
        "1,14.2,1.76,2.45,15.2,112,3.27,3.39,.34,1.97,6.75,1.05,2.85,1450\r\n",
        "1,14.39,1.87,2.45,14.6,96,2.5,2.52,.3,1.98,5.25,1.02,3.58,1290\r\n",
        "1,14.06,2.15,2.61,17.6,121,2.6,2.51,.31,1.25,5.05,1.06,3.58,1295\r\n",
        "1,14.83,1.64,2.17,14,97,2.8,2.98,.29,1.98,5.2,1.08,2.85,1045\r\n"
       ]
      }
     ],
     "prompt_number": 79
    },
    {
     "cell_type": "markdown",
     "metadata": {},
     "source": [
      "http://stackoverflow.com/questions/12336234/read-csv-file-to-numpy-array-first-row-as-strings-rest-as-float"
     ]
    },
    {
     "cell_type": "code",
     "collapsed": false,
     "input": [
      "data = np.genfromtxt(\"wine_names.csv\", dtype=None, delimiter=',', skip_header=1) "
     ],
     "language": "python",
     "metadata": {},
     "outputs": [],
     "prompt_number": 71
    },
    {
     "cell_type": "code",
     "collapsed": false,
     "input": [
      "data = np.genfromtxt(\"wine_names.csv\", dtype=float, delimiter=',', skip_header=1) "
     ],
     "language": "python",
     "metadata": {},
     "outputs": [],
     "prompt_number": 117
    },
    {
     "cell_type": "code",
     "collapsed": false,
     "input": [
      "data"
     ],
     "language": "python",
     "metadata": {},
     "outputs": [
      {
       "metadata": {},
       "output_type": "pyout",
       "prompt_number": 118,
       "text": [
        "array([[  1.00000000e+00,   1.42300000e+01,   1.71000000e+00, ...,\n",
        "          1.04000000e+00,   3.92000000e+00,   1.06500000e+03],\n",
        "       [  1.00000000e+00,   1.32000000e+01,   1.78000000e+00, ...,\n",
        "          1.05000000e+00,   3.40000000e+00,   1.05000000e+03],\n",
        "       [  1.00000000e+00,   1.31600000e+01,   2.36000000e+00, ...,\n",
        "          1.03000000e+00,   3.17000000e+00,   1.18500000e+03],\n",
        "       ..., \n",
        "       [  3.00000000e+00,   1.32700000e+01,   4.28000000e+00, ...,\n",
        "          5.90000000e-01,   1.56000000e+00,   8.35000000e+02],\n",
        "       [  3.00000000e+00,   1.31700000e+01,   2.59000000e+00, ...,\n",
        "          6.00000000e-01,   1.62000000e+00,   8.40000000e+02],\n",
        "       [  3.00000000e+00,   1.41300000e+01,   4.10000000e+00, ...,\n",
        "          6.10000000e-01,   1.60000000e+00,   5.60000000e+02]])"
       ]
      }
     ],
     "prompt_number": 118
    },
    {
     "cell_type": "markdown",
     "metadata": {},
     "source": [
      "Data is from:\n",
      "\n",
      "https://archive.ics.uci.edu/ml/datasets/Wine"
     ]
    },
    {
     "cell_type": "heading",
     "level": 4,
     "metadata": {},
     "source": [
      "Numpy Basics"
     ]
    },
    {
     "cell_type": "markdown",
     "metadata": {},
     "source": [
      "ndarray.ndim > the number of axes (dimensions) of the array. In the Python world, the number of dimensions is referred to as rank. (Commentary: This is not = dimensions (columns)??\n",
      "\n",
      "ndarray.shape > the dimensions of the array. This is a tuple of integers indicating the size of the array in each dimension. For a matrix with n rows (Reihen) and m columns (Spalten), shape will be (n,m). The length of the shape tuple is therefore the rank, or number of dimensions, ndim. \n",
      "\n",
      "ndarray.size > the total number of elements of the array. This is equal to the product of the elements of shape. \n",
      "\n",
      "ndarray.dtype > an object describing the type of the elements in the array. One can create or specify dtype's using standard Python types. Additionally NumPy provides types of its own. numpy.int32, numpy.int16, and numpy.float64 are some examples. "
     ]
    },
    {
     "cell_type": "markdown",
     "metadata": {},
     "source": [
      "http://docs.scipy.org/doc/numpy/reference/generated/numpy.ndarray.html#numpy.ndarray"
     ]
    },
    {
     "cell_type": "code",
     "collapsed": false,
     "input": [
      "data.shape"
     ],
     "language": "python",
     "metadata": {},
     "outputs": [
      {
       "metadata": {},
       "output_type": "pyout",
       "prompt_number": 73,
       "text": [
        "(178, 14)"
       ]
      }
     ],
     "prompt_number": 73
    },
    {
     "cell_type": "markdown",
     "metadata": {},
     "source": [
      "177 rows and 14 columns, 177 datapoints with 14 dimensions"
     ]
    },
    {
     "cell_type": "code",
     "collapsed": false,
     "input": [
      "data.ndim"
     ],
     "language": "python",
     "metadata": {},
     "outputs": [
      {
       "metadata": {},
       "output_type": "pyout",
       "prompt_number": 74,
       "text": [
        "2"
       ]
      }
     ],
     "prompt_number": 74
    },
    {
     "cell_type": "heading",
     "level": 4,
     "metadata": {},
     "source": [
      "Print options"
     ]
    },
    {
     "cell_type": "code",
     "collapsed": false,
     "input": [
      "np.set_printoptions(threshold='nan')"
     ],
     "language": "python",
     "metadata": {},
     "outputs": [],
     "prompt_number": 128
    },
    {
     "cell_type": "markdown",
     "metadata": {},
     "source": [
      "Print everything \u2191"
     ]
    },
    {
     "cell_type": "code",
     "collapsed": false,
     "input": [
      "np.set_printoptions(edgeitems=3,infstr='inf',\n",
      "linewidth=75, nanstr='nan', precision=8,\n",
      "suppress=False, threshold=1000, formatter=None)"
     ],
     "language": "python",
     "metadata": {},
     "outputs": [],
     "prompt_number": 75
    },
    {
     "cell_type": "markdown",
     "metadata": {},
     "source": [
      "Default settings \u2191"
     ]
    },
    {
     "cell_type": "heading",
     "level": 4,
     "metadata": {},
     "source": [
      "Read-in a row or data point with index n"
     ]
    },
    {
     "cell_type": "code",
     "collapsed": false,
     "input": [
      "data[10]"
     ],
     "language": "python",
     "metadata": {},
     "outputs": [
      {
       "metadata": {},
       "output_type": "pyout",
       "prompt_number": 90,
       "text": [
        "array([  1.00000000e+00,   1.41000000e+01,   2.16000000e+00,\n",
        "         2.30000000e+00,   1.80000000e+01,   1.05000000e+02,\n",
        "         2.95000000e+00,   3.32000000e+00,   2.20000000e-01,\n",
        "         2.38000000e+00,   5.75000000e+00,   1.25000000e+00,\n",
        "         3.17000000e+00,   1.51000000e+03])"
       ]
      }
     ],
     "prompt_number": 90
    },
    {
     "cell_type": "heading",
     "level": 4,
     "metadata": {},
     "source": [
      "Read-in a column (dimension)"
     ]
    },
    {
     "cell_type": "code",
     "collapsed": false,
     "input": [
      "data[:,1]"
     ],
     "language": "python",
     "metadata": {},
     "outputs": [
      {
       "metadata": {},
       "output_type": "pyout",
       "prompt_number": 92,
       "text": [
        "array([ 14.23,  13.2 ,  13.16,  14.37,  13.24,  14.2 ,  14.39,  14.06,\n",
        "        14.83,  13.86,  14.1 ,  14.12,  13.75,  14.75,  14.38,  13.63,\n",
        "        14.3 ,  13.83,  14.19,  13.64,  14.06,  12.93,  13.71,  12.85,\n",
        "        13.5 ,  13.05,  13.39,  13.3 ,  13.87,  14.02,  13.73,  13.58,\n",
        "        13.68,  13.76,  13.51,  13.48,  13.28,  13.05,  13.07,  14.22,\n",
        "        13.56,  13.41,  13.88,  13.24,  13.05,  14.21,  14.38,  13.9 ,\n",
        "        14.1 ,  13.94,  13.05,  13.83,  13.82,  13.77,  13.74,  13.56,\n",
        "        14.22,  13.29,  13.72,  12.37,  12.33,  12.64,  13.67,  12.37,\n",
        "        12.17,  12.37,  13.11,  12.37,  13.34,  12.21,  12.29,  13.86,\n",
        "        13.49,  12.99,  11.96,  11.66,  13.03,  11.84,  12.33,  12.7 ,\n",
        "        12.  ,  12.72,  12.08,  13.05,  11.84,  12.67,  12.16,  11.65,\n",
        "        11.64,  12.08,  12.08,  12.  ,  12.69,  12.29,  11.62,  12.47,\n",
        "        11.81,  12.29,  12.37,  12.29,  12.08,  12.6 ,  12.34,  11.82,\n",
        "        12.51,  12.42,  12.25,  12.72,  12.22,  11.61,  11.46,  12.52,\n",
        "        11.76,  11.41,  12.08,  11.03,  11.82,  12.42,  12.77,  12.  ,\n",
        "        11.45,  11.56,  12.42,  13.05,  11.87,  12.07,  12.43,  11.79,\n",
        "        12.37,  12.04,  12.86,  12.88,  12.81,  12.7 ,  12.51,  12.6 ,\n",
        "        12.25,  12.53,  13.49,  12.84,  12.93,  13.36,  13.52,  13.62,\n",
        "        12.25,  13.16,  13.88,  12.87,  13.32,  13.08,  13.5 ,  12.79,\n",
        "        13.11,  13.23,  12.58,  13.17,  13.84,  12.45,  14.34,  13.48,\n",
        "        12.36,  13.69,  12.85,  12.96,  13.78,  13.73,  13.45,  12.82,\n",
        "        13.58,  13.4 ,  12.2 ,  12.77,  14.16,  13.71,  13.4 ,  13.27,\n",
        "        13.17,  14.13])"
       ]
      }
     ],
     "prompt_number": 92
    },
    {
     "cell_type": "heading",
     "level": 4,
     "metadata": {},
     "source": [
      "Read-in a value inside an array"
     ]
    },
    {
     "cell_type": "markdown",
     "metadata": {},
     "source": [
      "first value (index [0, n]) of second dimension [n, 1]  = second column"
     ]
    },
    {
     "cell_type": "code",
     "collapsed": false,
     "input": [
      "data[0,1] "
     ],
     "language": "python",
     "metadata": {},
     "outputs": [
      {
       "metadata": {},
       "output_type": "pyout",
       "prompt_number": 103,
       "text": [
        "14.23"
       ]
      }
     ],
     "prompt_number": 103
    },
    {
     "cell_type": "markdown",
     "metadata": {},
     "source": [
      "second value (index [1, n]) of second dimension [n, 1]  = second column"
     ]
    },
    {
     "cell_type": "code",
     "collapsed": false,
     "input": [
      "data[1,1] "
     ],
     "language": "python",
     "metadata": {},
     "outputs": [
      {
       "metadata": {},
       "output_type": "pyout",
       "prompt_number": 104,
       "text": [
        "13.199999999999999"
       ]
      }
     ],
     "prompt_number": 104
    },
    {
     "cell_type": "heading",
     "level": 3,
     "metadata": {},
     "source": [
      "With this \"Printing\" and accessing of values of one data point is manageable. The next step is to min max scale all values of one dimension to some parameters for the Synthdef (OSC-messages) such as frequency or something different. "
     ]
    },
    {
     "cell_type": "markdown",
     "metadata": {},
     "source": [
      "Before that some basics about the communication between ipython and SC3 via OSC."
     ]
    },
    {
     "cell_type": "heading",
     "level": 2,
     "metadata": {},
     "source": [
      "How to send OSC messages to SC3 with ipython?"
     ]
    },
    {
     "cell_type": "markdown",
     "metadata": {},
     "source": [
      "Download pyOSC here: https://trac.v2.nl/wiki/pyOSC And do sudo ipython setup.py install inside the pyOSC folder. \n",
      "\n",
      "On OSC more here: http://opensoundcontrol.org/introduction-osc \n",
      "\n",
      "Source: http://www.caseyanderson.com/teaching/ipython-to-supercollider-via-osc/"
     ]
    },
    {
     "cell_type": "heading",
     "level": 3,
     "metadata": {},
     "source": [
      "Load the code below in SC3 (Supercollider): http://supercollider.sourceforge.net/"
     ]
    },
    {
     "cell_type": "raw",
     "metadata": {},
     "source": [
      "(\n",
      "SynthDef(\"grain\", { |out, amp=0.1, freq=440, sustain=0.01, pan|\n",
      "\tvar snd = FSinOsc.ar(freq);\n",
      "\tvar amp2 = amp * AmpComp.ir(freq.max(50)) * 0.5;\n",
      "\tvar env = EnvGen.ar(Env.sine(sustain, amp2), doneAction: 2);\n",
      "\tOffsetOut.ar(out, Pan2.ar(snd * env, pan));\n",
      "}, \\ir ! 5).add;\n",
      "\n",
      ")"
     ]
    },
    {
     "cell_type": "code",
     "collapsed": false,
     "input": [
      "import OSC\n",
      "import time, random\n",
      "client = OSC.OSCClient()\n",
      "client.connect( ( '127.0.0.1', 57110 ) )"
     ],
     "language": "python",
     "metadata": {},
     "outputs": [],
     "prompt_number": 17
    },
    {
     "cell_type": "heading",
     "level": 3,
     "metadata": {},
     "source": [
      "OSC message to send: \n",
      "\n",
      "s.sendMsg(\"s_new\", \\grain, -1, 0, 1, \\freq, 200, \\sustain, 0.1, \\pan, -1.0); "
     ]
    },
    {
     "cell_type": "code",
     "collapsed": false,
     "input": [
      "msg = OSC.OSCMessage()\n",
      "msg.setAddress(\"s_new\")\n",
      "msg.append(\"grain\")\n",
      "msg.append(-1)\n",
      "msg.append(0)\n",
      "msg.append(1)\n",
      "msg.append(\"amp\")\n",
      "msg.append(1)\n",
      "msg.append(\"freq\")\n",
      "msg.append(4000)\n",
      "msg.append(\"sustain\")\n",
      "msg.append(0.1)\n",
      "msg.append(\"pan\")\n",
      "msg.append(0)\n",
      "client.send(msg)"
     ],
     "language": "python",
     "metadata": {},
     "outputs": [],
     "prompt_number": 66
    },
    {
     "cell_type": "code",
     "collapsed": false,
     "input": [
      "import time, sys\n",
      "for i in range(100):\n",
      "    \n",
      "    msg = OSC.OSCMessage()\n",
      "    msg.setAddress(\"s_new\")\n",
      "    msg.append(\"grain\")\n",
      "    msg.append(-1)\n",
      "    msg.append(0)\n",
      "    msg.append(1)\n",
      "    msg.append(\"amp\")\n",
      "    msg.append(1)\n",
      "    msg.append(\"freq\")\n",
      "    msg.append(440+(i*10))\n",
      "    msg.append(\"sustain\")\n",
      "    msg.append(0.15)\n",
      "    msg.append(\"pan\")\n",
      "    msg.append(1)\n",
      "    client.send(msg)\n",
      "    \n",
      "    msg = OSC.OSCMessage()\n",
      "    msg.setAddress(\"s_new\")\n",
      "    msg.append(\"grain\")\n",
      "    msg.append(-1)\n",
      "    msg.append(0)\n",
      "    msg.append(1)\n",
      "    msg.append(\"amp\")\n",
      "    msg.append(1)\n",
      "    msg.append(\"freq\")\n",
      "    msg.append(1440+(i*10))\n",
      "    msg.append(\"sustain\")\n",
      "    msg.append(0.15)\n",
      "    msg.append(\"pan\")\n",
      "    msg.append(-1)\n",
      "    client.send(msg)\n",
      "    \n",
      "    time.sleep(0.04)"
     ],
     "language": "python",
     "metadata": {},
     "outputs": [],
     "prompt_number": 133
    },
    {
     "cell_type": "heading",
     "level": 2,
     "metadata": {},
     "source": [
      "Loading the array"
     ]
    },
    {
     "cell_type": "code",
     "collapsed": false,
     "input": [
      "data[0,1]"
     ],
     "language": "python",
     "metadata": {},
     "outputs": [
      {
       "metadata": {},
       "output_type": "pyout",
       "prompt_number": 116,
       "text": [
        "14.23"
       ]
      }
     ],
     "prompt_number": 116
    },
    {
     "cell_type": "heading",
     "level": 3,
     "metadata": {},
     "source": [
      "Reading-out values from the array with a timed loop"
     ]
    },
    {
     "cell_type": "code",
     "collapsed": false,
     "input": [
      "import time, sys\n",
      "for i in range (14):\n",
      "    print data[1,i]\n",
      "    time.sleep(0.4)"
     ],
     "language": "python",
     "metadata": {},
     "outputs": [
      {
       "output_type": "stream",
       "stream": "stdout",
       "text": [
        "1.0\n",
        "13.2"
       ]
      },
      {
       "output_type": "stream",
       "stream": "stdout",
       "text": [
        "\n",
        "1.78"
       ]
      },
      {
       "output_type": "stream",
       "stream": "stdout",
       "text": [
        "\n",
        "2.14"
       ]
      },
      {
       "output_type": "stream",
       "stream": "stdout",
       "text": [
        "\n",
        "11.2"
       ]
      },
      {
       "output_type": "stream",
       "stream": "stdout",
       "text": [
        "\n",
        "100.0"
       ]
      },
      {
       "output_type": "stream",
       "stream": "stdout",
       "text": [
        "\n",
        "2.65"
       ]
      },
      {
       "output_type": "stream",
       "stream": "stdout",
       "text": [
        "\n",
        "2.76"
       ]
      },
      {
       "output_type": "stream",
       "stream": "stdout",
       "text": [
        "\n",
        "0.26"
       ]
      },
      {
       "output_type": "stream",
       "stream": "stdout",
       "text": [
        "\n",
        "1.28"
       ]
      },
      {
       "output_type": "stream",
       "stream": "stdout",
       "text": [
        "\n",
        "4.38"
       ]
      },
      {
       "output_type": "stream",
       "stream": "stdout",
       "text": [
        "\n",
        "1.05"
       ]
      },
      {
       "output_type": "stream",
       "stream": "stdout",
       "text": [
        "\n",
        "3.4"
       ]
      },
      {
       "output_type": "stream",
       "stream": "stdout",
       "text": [
        "\n",
        "1050.0"
       ]
      },
      {
       "output_type": "stream",
       "stream": "stdout",
       "text": [
        "\n"
       ]
      }
     ],
     "prompt_number": 130
    },
    {
     "cell_type": "heading",
     "level": 2,
     "metadata": {},
     "source": [
      "Min max scaling the data"
     ]
    },
    {
     "cell_type": "code",
     "collapsed": false,
     "input": [
      "data.argmax()"
     ],
     "language": "python",
     "metadata": {},
     "outputs": [
      {
       "metadata": {},
       "output_type": "pyout",
       "prompt_number": 137,
       "text": [
        "265"
       ]
      }
     ],
     "prompt_number": 137
    },
    {
     "cell_type": "heading",
     "level": 1,
     "metadata": {},
     "source": [
      "Version information"
     ]
    },
    {
     "cell_type": "code",
     "collapsed": false,
     "input": [
      "%load_ext version_information\n",
      "%version_information numpy, scipy, matplotlib, sympy, pyosc, "
     ],
     "language": "python",
     "metadata": {},
     "outputs": [
      {
       "html": [
        "<table><tr><th>Software</th><th>Version</th></tr><tr><td>Python</td><td>2.7.6 |Anaconda 1.9.1 (x86_64)| (default, Jan 10 2014, 11:23:15) [GCC 4.0.1 (Apple Inc. build 5493)]</td></tr><tr><td>IPython</td><td>1.2.1</td></tr><tr><td>OS</td><td>posix [darwin]</td></tr><tr><td>numpy</td><td>1.8.1</td></tr><tr><td>scipy</td><td>0.13.3</td></tr><tr><td>matplotlib</td><td>1.3.1</td></tr><tr><td>sympy</td><td>0.7.5</td></tr><tr><td>pyosc</td><td>0.3.5b-5294</td></tr><tr><td colspan='2'>Tue Apr 15 20:04:22 2014 CEST</td></tr></table>"
       ],
       "json": [
        "{\"Software versions\": [{\"version\": \"2.7.6 |Anaconda 1.9.1 (x86_64)| (default, Jan 10 2014, 11:23:15) [GCC 4.0.1 (Apple Inc. build 5493)]\", \"module\": \"Python\"}, {\"version\": \"1.2.1\", \"module\": \"IPython\"}, {\"version\": \"posix [darwin]\", \"module\": \"OS\"}, {\"version\": \"1.8.1\", \"module\": \"numpy\"}, {\"version\": \"0.13.3\", \"module\": \"scipy\"}, {\"version\": \"1.3.1\", \"module\": \"matplotlib\"}, {\"version\": \"0.7.5\", \"module\": \"sympy\"}, {\"version\": \"0.3.5b-5294\", \"module\": \"pyosc\"}]}"
       ],
       "latex": [
        "\\begin{tabular}{|l|l|}\\hline\n",
        "{\\bf Software} & {\\bf Version} \\\\ \\hline\\hline\n",
        "Python & 2.7.6 |Anaconda 1.9.1 (x86\\letterunderscore{}64)| (default, Jan 10 2014, 11:23:15) [GCC 4.0.1 (Apple Inc. build 5493)] \\\\ \\hline\n",
        "IPython & 1.2.1 \\\\ \\hline\n",
        "OS & posix [darwin] \\\\ \\hline\n",
        "numpy & 1.8.1 \\\\ \\hline\n",
        "scipy & 0.13.3 \\\\ \\hline\n",
        "matplotlib & 1.3.1 \\\\ \\hline\n",
        "sympy & 0.7.5 \\\\ \\hline\n",
        "pyosc & 0.3.5b-5294 \\\\ \\hline\n",
        "\\hline \\multicolumn{2}{|l|}{Tue Apr 15 20:04:22 2014 CEST} \\\\ \\hline\n",
        "\\end{tabular}\n"
       ],
       "metadata": {},
       "output_type": "pyout",
       "prompt_number": 14,
       "text": [
        "Software versions\n",
        "Python 2.7.6 |Anaconda 1.9.1 (x86_64)| (default, Jan 10 2014, 11:23:15) [GCC 4.0.1 (Apple Inc. build 5493)]\n",
        "IPython 1.2.1\n",
        "OS posix [darwin]\n",
        "numpy 1.8.1\n",
        "scipy 0.13.3\n",
        "matplotlib 1.3.1\n",
        "sympy 0.7.5\n",
        "pyosc 0.3.5b-5294\n",
        "<tr><td colspan='2'>Tue Apr 15 20:04:22 2014 CEST</td></tr>"
       ]
      }
     ],
     "prompt_number": 14
    }
   ],
   "metadata": {}
  }
 ]
}